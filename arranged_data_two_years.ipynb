{
 "cells": [
  {
   "cell_type": "markdown",
   "metadata": {},
   "source": [
    "## Imports"
   ]
  },
  {
   "cell_type": "code",
   "execution_count": 13,
   "metadata": {},
   "outputs": [],
   "source": [
    "import pandas as pd\n",
    "from sklearn.preprocessing import OneHotEncoder\n"
   ]
  },
  {
   "cell_type": "code",
   "execution_count": 14,
   "metadata": {},
   "outputs": [],
   "source": [
    "df_awards_players = pd.read_csv('data/awards_players.csv')\n",
    "df_coaches = pd.read_csv('data/coaches.csv')\n",
    "df_players_teams = pd.read_csv('data/players_teams.csv')\n",
    "df_players = pd.read_csv('data/players.csv')\n",
    "df_series_post = pd.read_csv('data/series_post.csv')\n",
    "df_teams = pd.read_csv('data/teams.csv')\n",
    "df_teams_post = pd.read_csv('data/teams_post.csv')"
   ]
  },
  {
   "cell_type": "markdown",
   "metadata": {},
   "source": [
    "## Data Cleanup and analysis"
   ]
  },
  {
   "cell_type": "code",
   "execution_count": 15,
   "metadata": {},
   "outputs": [],
   "source": [
    "pd.set_option('display.max_columns', None)\n",
    "df_teams.head()\n",
    "\n",
    "years_back=2"
   ]
  },
  {
   "cell_type": "code",
   "execution_count": 16,
   "metadata": {},
   "outputs": [
    {
     "name": "stdout",
     "output_type": "stream",
     "text": [
      "<class 'pandas.core.frame.DataFrame'>\n",
      "RangeIndex: 142 entries, 0 to 141\n",
      "Data columns (total 61 columns):\n",
      " #   Column      Non-Null Count  Dtype  \n",
      "---  ------      --------------  -----  \n",
      " 0   year        142 non-null    int64  \n",
      " 1   lgID        142 non-null    object \n",
      " 2   tmID        142 non-null    object \n",
      " 3   franchID    142 non-null    object \n",
      " 4   confID      142 non-null    object \n",
      " 5   divID       0 non-null      float64\n",
      " 6   rank        142 non-null    int64  \n",
      " 7   playoff     142 non-null    object \n",
      " 8   seeded      142 non-null    int64  \n",
      " 9   firstRound  80 non-null     object \n",
      " 10  semis       38 non-null     object \n",
      " 11  finals      20 non-null     object \n",
      " 12  name        142 non-null    object \n",
      " 13  o_fgm       142 non-null    int64  \n",
      " 14  o_fga       142 non-null    int64  \n",
      " 15  o_ftm       142 non-null    int64  \n",
      " 16  o_fta       142 non-null    int64  \n",
      " 17  o_3pm       142 non-null    int64  \n",
      " 18  o_3pa       142 non-null    int64  \n",
      " 19  o_oreb      142 non-null    int64  \n",
      " 20  o_dreb      142 non-null    int64  \n",
      " 21  o_reb       142 non-null    int64  \n",
      " 22  o_asts      142 non-null    int64  \n",
      " 23  o_pf        142 non-null    int64  \n",
      " 24  o_stl       142 non-null    int64  \n",
      " 25  o_to        142 non-null    int64  \n",
      " 26  o_blk       142 non-null    int64  \n",
      " 27  o_pts       142 non-null    int64  \n",
      " 28  d_fgm       142 non-null    int64  \n",
      " 29  d_fga       142 non-null    int64  \n",
      " 30  d_ftm       142 non-null    int64  \n",
      " 31  d_fta       142 non-null    int64  \n",
      " 32  d_3pm       142 non-null    int64  \n",
      " 33  d_3pa       142 non-null    int64  \n",
      " 34  d_oreb      142 non-null    int64  \n",
      " 35  d_dreb      142 non-null    int64  \n",
      " 36  d_reb       142 non-null    int64  \n",
      " 37  d_asts      142 non-null    int64  \n",
      " 38  d_pf        142 non-null    int64  \n",
      " 39  d_stl       142 non-null    int64  \n",
      " 40  d_to        142 non-null    int64  \n",
      " 41  d_blk       142 non-null    int64  \n",
      " 42  d_pts       142 non-null    int64  \n",
      " 43  tmORB       142 non-null    int64  \n",
      " 44  tmDRB       142 non-null    int64  \n",
      " 45  tmTRB       142 non-null    int64  \n",
      " 46  opptmORB    142 non-null    int64  \n",
      " 47  opptmDRB    142 non-null    int64  \n",
      " 48  opptmTRB    142 non-null    int64  \n",
      " 49  won         142 non-null    int64  \n",
      " 50  lost        142 non-null    int64  \n",
      " 51  GP          142 non-null    int64  \n",
      " 52  homeW       142 non-null    int64  \n",
      " 53  homeL       142 non-null    int64  \n",
      " 54  awayW       142 non-null    int64  \n",
      " 55  awayL       142 non-null    int64  \n",
      " 56  confW       142 non-null    int64  \n",
      " 57  confL       142 non-null    int64  \n",
      " 58  min         142 non-null    int64  \n",
      " 59  attend      142 non-null    int64  \n",
      " 60  arena       142 non-null    object \n",
      "dtypes: float64(1), int64(50), object(10)\n",
      "memory usage: 67.8+ KB\n"
     ]
    }
   ],
   "source": [
    "df_teams.info()"
   ]
  },
  {
   "cell_type": "code",
   "execution_count": 17,
   "metadata": {},
   "outputs": [],
   "source": [
    "\n",
    "def drop_columns_with_all_nan(df):\n",
    "    # Step 1: Check for columns with all NaN values\n",
    "    columns_to_drop = []\n",
    "    for col in df.columns:\n",
    "        unique_values = df[col].unique()\n",
    "        if len(unique_values) == 1 or all(pd.isna(x) for x in unique_values):\n",
    "            columns_to_drop.append(col)\n",
    "\n",
    "    # Step 2: Drop identified columns\n",
    "    df.drop(columns=columns_to_drop, inplace=True)\n",
    "\n",
    "    # Step 3: Print the identified columns to be dropped\n",
    "    print(columns_to_drop)\n",
    "\n",
    "\n"
   ]
  },
  {
   "cell_type": "code",
   "execution_count": 18,
   "metadata": {},
   "outputs": [
    {
     "name": "stdout",
     "output_type": "stream",
     "text": [
      "['lgID', 'divID', 'seeded', 'tmORB', 'tmDRB', 'tmTRB', 'opptmORB', 'opptmDRB', 'opptmTRB']\n",
      "0\n",
      "['lgID']\n",
      "0\n",
      "['lgIDWinner', 'lgIDLoser']\n",
      "0\n",
      "['firstseason', 'lastseason']\n",
      "0\n",
      "['lgID']\n",
      "0\n",
      "['lgID']\n",
      "0\n",
      "20\n",
      "['lgID']\n",
      "0\n"
     ]
    }
   ],
   "source": [
    "drop_columns_with_all_nan(df_teams)\n",
    "print(df_teams.duplicated().sum())\n",
    "df_teams.drop_duplicates(inplace=True)\n",
    "\n",
    "drop_columns_with_all_nan(df_teams_post)\n",
    "print(df_teams_post.duplicated().sum())\n",
    "df_teams_post.drop_duplicates(inplace=True)\n",
    "\n",
    "drop_columns_with_all_nan(df_series_post)\n",
    "print(df_series_post.duplicated().sum())\n",
    "df_series_post.drop_duplicates(inplace=True)\n",
    "\n",
    "drop_columns_with_all_nan(df_players)\n",
    "print(df_players.duplicated().sum())\n",
    "df_players.drop_duplicates(inplace=True)\n",
    "\n",
    "drop_columns_with_all_nan(df_players_teams)\n",
    "print(df_players_teams.duplicated().sum())\n",
    "df_players_teams.drop_duplicates(inplace=True)\n",
    "\n",
    "drop_columns_with_all_nan(df_coaches)\n",
    "print(df_coaches.duplicated().sum())\n",
    "print(df_coaches.duplicated(subset=['tmID', 'year']).sum())\n",
    "df_coaches.drop_duplicates(inplace=True)\n",
    "\n",
    "drop_columns_with_all_nan(df_awards_players)\n",
    "print(df_awards_players.duplicated().sum())\n",
    "df_awards_players.drop_duplicates(inplace=True)\n",
    "\n"
   ]
  },
  {
   "cell_type": "markdown",
   "metadata": {},
   "source": [
    "### Teams"
   ]
  },
  {
   "cell_type": "code",
   "execution_count": 19,
   "metadata": {},
   "outputs": [],
   "source": [
    "# Replace 'N' and 'Y' in the 'playoff' column with 0 and 1\n",
    "df_teams['playoff'] = df_teams['playoff'].map({'N': 0, 'Y': 1})\n",
    "df_teams.sort_values(by=['year', 'tmID'], ascending=[True, True], inplace=True)\n",
    "\n",
    "years = df_teams['year'].unique()\n",
    "teams = df_teams['tmID'].unique()\n",
    "\n",
    "df_teams_copy = df_teams.copy()\n",
    "\n",
    "\n",
    "average_collumns = [\"rank\",\"o_fgm\",\"o_fga\",\"o_ftm\",\"o_fta\",\"o_3pm\",\"o_3pa\",\"o_oreb\",\"o_dreb\",\"o_reb\",\"o_asts\",\"o_pf\",\"o_stl\",\"o_to\",\"o_blk\",\"o_pts\",\"d_fgm\",\"d_fga\",\"d_ftm\",\"d_fta\",\"d_3pm\",\"d_3pa\",\"d_oreb\",\"d_dreb\",\"d_reb\",\"d_asts\",\"d_pf\",\"d_stl\",\"d_to\",\"d_blk\",\"d_pts\",\"GP\",\"homeW\",\"homeL\",\"awayW\",\"awayL\",\"confW\",\"confL\",\"min\",\"attend\"]\n",
    "\n",
    "for year in years:\n",
    "    for team in teams:\n",
    "        df_teams_copy.loc[(df_teams_copy['year'] == year) & (df_teams_copy['tmID'] == team), 'num_playoff_appearances'] = df_teams[(df_teams['year'] >= (year - years_back)) & (df_teams['year'] < year) & (df_teams['tmID'] == team)]['playoff'].sum()\n",
    "        df_teams_copy.loc[(df_teams_copy['year'] == year) & (df_teams_copy['tmID'] == team), 'total_first_round_won'] = (df_teams[(df_teams['year'] >= (year - years_back)) &(df_teams['year'] < year) & (df_teams['tmID'] == team)]['firstRound'] == 'W').sum()\n",
    "        df_teams_copy.loc[(df_teams_copy['year'] == year) & (df_teams_copy['tmID'] == team), 'total_first_round_lost'] = (df_teams[(df_teams['year'] >= (year - years_back)) &(df_teams['year'] < year) & (df_teams['tmID'] == team)]['firstRound'] == 'L').sum()\n",
    "        df_teams_copy.loc[(df_teams_copy['year'] == year) & (df_teams_copy['tmID'] == team), 'total_semis_won'] = (df_teams[(df_teams['year'] >= (year - years_back)) &(df_teams['year'] < year) & (df_teams['tmID'] == team)]['semis'] == 'W').sum()\n",
    "        df_teams_copy.loc[(df_teams_copy['year'] == year) & (df_teams_copy['tmID'] == team), 'total_semis_lost'] = (df_teams[(df_teams['year'] >= (year - years_back)) &(df_teams['year'] < year) & (df_teams['tmID'] == team)]['semis'] == 'L').sum()\n",
    "        df_teams_copy.loc[(df_teams_copy['year'] == year) & (df_teams_copy['tmID'] == team), 'total_finals_won'] = (df_teams[(df_teams['year'] >= (year - years_back)) &(df_teams['year'] < year) & (df_teams['tmID'] == team)]['finals'] == 'W').sum()\n",
    "        df_teams_copy.loc[(df_teams_copy['year'] == year) & (df_teams_copy['tmID'] == team), 'total_finals_lost'] = (df_teams[(df_teams['year'] >= (year - years_back)) &(df_teams['year'] < year) & (df_teams['tmID'] == team)]['finals'] == 'L').sum()\n",
    "        df_teams_copy.loc[(df_teams_copy['year'] == year) & (df_teams_copy['tmID'] == team), 'mean_won'] = (df_teams[(df_teams['year'] >= (year - years_back)) &(df_teams['year'] < year) & (df_teams['tmID'] == team)]['won']).mean()\n",
    "        df_teams_copy.loc[(df_teams_copy['year'] == year) & (df_teams_copy['tmID'] == team), 'mean_lost'] = (df_teams[(df_teams['year'] >= (year - years_back)) &(df_teams['year'] < year) & (df_teams['tmID'] == team)]['lost']).mean()\n",
    "        for column in average_collumns:\n",
    "            df_teams_copy.loc[(df_teams_copy['year'] == year) & (df_teams_copy['tmID'] == team), column] = df_teams[(df_teams['year'] >= (year - years_back)) &(df_teams['year'] < year) & (df_teams['tmID'] == team)][column].mean()\n",
    "            \n",
    "df_teams_copy.drop(columns=['firstRound', 'semis', 'finals',\"won\",\"lost\", 'franchID', 'name', 'arena'], inplace=True)\n",
    "df_teams_copy.fillna(0, inplace=True)\n",
    "\n",
    "encoder = OneHotEncoder()\n",
    "categorical_features = ['confID']\n",
    "for feature in categorical_features:\n",
    "    onehotarray = encoder.fit_transform(df_teams_copy[[feature]]).toarray()\n",
    "    items = [f'{feature}_{item}' for item in encoder.categories_[0]]\n",
    "    df_teams_copy[items] = onehotarray\n",
    "df_teams_copy=df_teams_copy.drop(categorical_features, axis=1)\n",
    "\n",
    "df_teams_copy.to_csv('data/teams_processed.csv', index=False)"
   ]
  },
  {
   "cell_type": "markdown",
   "metadata": {},
   "source": [
    "### Teams post"
   ]
  },
  {
   "cell_type": "code",
   "execution_count": 20,
   "metadata": {},
   "outputs": [],
   "source": [
    "df_teams_post_copy = df_teams_post.copy()\n",
    "sum_collumns = [\"W\", \"L\"]\n",
    "for year in years:\n",
    "    for team in teams:\n",
    "        for column in sum_collumns:\n",
    "            df_teams_post_copy.loc[(df_teams_post_copy['year'] == year) & (df_teams_post_copy['tmID'] == team), column] = df_teams_post[(df_teams_post['year'] >= (year - years_back)) &(df_teams_post['year'] < year) & (df_teams_post['tmID'] == team)][column].sum()\n",
    "\n",
    "df_teams_post_copy.fillna(0, inplace=True)\n",
    "df_teams_post_copy.to_csv('data/teams_post_processed.csv', index=False)   \n"
   ]
  },
  {
   "cell_type": "markdown",
   "metadata": {},
   "source": [
    "### series post"
   ]
  },
  {
   "cell_type": "code",
   "execution_count": 21,
   "metadata": {},
   "outputs": [],
   "source": [
    "winning_team_stats = df_series_post.groupby([\"year\", \"tmIDWinner\"])[[\"W\"]].sum().reset_index()\n",
    "winning_team_stats.columns = [\"year\", \"tmID\", \"total_wins\"]\n",
    "\n",
    "losing_team_stats = df_series_post.groupby([\"year\", \"tmIDLoser\"])[[\"L\"]].sum().reset_index()\n",
    "losing_team_stats.columns = [\"year\", \"tmID\", \"total_losses\"]\n",
    "\n",
    "# Merge the winning and losing team statistics\n",
    "team_stats = winning_team_stats.merge(losing_team_stats, on=[\"year\", \"tmID\"], how=\"outer\").fillna(0)\n",
    "team_stats_copy = team_stats.copy()\n",
    "average_collumns = [\"total_wins\", \"total_losses\"]\n",
    "for year in years:\n",
    "    for team in teams:\n",
    "        for column in average_collumns:\n",
    "            team_stats_copy.loc[(team_stats_copy['year'] == year) & (team_stats_copy['tmID'] == team), column] = team_stats[(team_stats['year'] >= (year - years_back)) &(team_stats['year'] < year) & (team_stats['tmID'] == team)][column].mean()\n",
    "team_stats_copy.fillna(0, inplace=True)\n",
    "team_stats_copy.to_csv('data/series_post_processed.csv', index=False)"
   ]
  },
  {
   "cell_type": "markdown",
   "metadata": {},
   "source": [
    "### Players teams"
   ]
  },
  {
   "cell_type": "code",
   "execution_count": 22,
   "metadata": {},
   "outputs": [
    {
     "name": "stdout",
     "output_type": "stream",
     "text": [
      "<class 'pandas.core.frame.DataFrame'>\n",
      "RangeIndex: 1876 entries, 0 to 1875\n",
      "Data columns (total 42 columns):\n",
      " #   Column              Non-Null Count  Dtype \n",
      "---  ------              --------------  ----- \n",
      " 0   playerID            1876 non-null   object\n",
      " 1   year                1876 non-null   int64 \n",
      " 2   stint               1876 non-null   int64 \n",
      " 3   tmID                1876 non-null   object\n",
      " 4   GP                  1876 non-null   int64 \n",
      " 5   GS                  1876 non-null   int64 \n",
      " 6   minutes             1876 non-null   int64 \n",
      " 7   points              1876 non-null   int64 \n",
      " 8   oRebounds           1876 non-null   int64 \n",
      " 9   dRebounds           1876 non-null   int64 \n",
      " 10  rebounds            1876 non-null   int64 \n",
      " 11  assists             1876 non-null   int64 \n",
      " 12  steals              1876 non-null   int64 \n",
      " 13  blocks              1876 non-null   int64 \n",
      " 14  turnovers           1876 non-null   int64 \n",
      " 15  PF                  1876 non-null   int64 \n",
      " 16  fgAttempted         1876 non-null   int64 \n",
      " 17  fgMade              1876 non-null   int64 \n",
      " 18  ftAttempted         1876 non-null   int64 \n",
      " 19  ftMade              1876 non-null   int64 \n",
      " 20  threeAttempted      1876 non-null   int64 \n",
      " 21  threeMade           1876 non-null   int64 \n",
      " 22  dq                  1876 non-null   int64 \n",
      " 23  PostGP              1876 non-null   int64 \n",
      " 24  PostGS              1876 non-null   int64 \n",
      " 25  PostMinutes         1876 non-null   int64 \n",
      " 26  PostPoints          1876 non-null   int64 \n",
      " 27  PostoRebounds       1876 non-null   int64 \n",
      " 28  PostdRebounds       1876 non-null   int64 \n",
      " 29  PostRebounds        1876 non-null   int64 \n",
      " 30  PostAssists         1876 non-null   int64 \n",
      " 31  PostSteals          1876 non-null   int64 \n",
      " 32  PostBlocks          1876 non-null   int64 \n",
      " 33  PostTurnovers       1876 non-null   int64 \n",
      " 34  PostPF              1876 non-null   int64 \n",
      " 35  PostfgAttempted     1876 non-null   int64 \n",
      " 36  PostfgMade          1876 non-null   int64 \n",
      " 37  PostftAttempted     1876 non-null   int64 \n",
      " 38  PostftMade          1876 non-null   int64 \n",
      " 39  PostthreeAttempted  1876 non-null   int64 \n",
      " 40  PostthreeMade       1876 non-null   int64 \n",
      " 41  PostDQ              1876 non-null   int64 \n",
      "dtypes: int64(40), object(2)\n",
      "memory usage: 615.7+ KB\n",
      "<class 'pandas.core.frame.DataFrame'>\n",
      "RangeIndex: 1876 entries, 0 to 1875\n",
      "Data columns (total 42 columns):\n",
      " #   Column              Non-Null Count  Dtype  \n",
      "---  ------              --------------  -----  \n",
      " 0   playerID            1876 non-null   object \n",
      " 1   year                1876 non-null   int64  \n",
      " 2   stint               1876 non-null   int64  \n",
      " 3   tmID                1876 non-null   object \n",
      " 4   GP                  1876 non-null   float64\n",
      " 5   GS                  1876 non-null   float64\n",
      " 6   minutes             1876 non-null   float64\n",
      " 7   points              1876 non-null   float64\n",
      " 8   oRebounds           1876 non-null   float64\n",
      " 9   dRebounds           1876 non-null   float64\n",
      " 10  rebounds            1876 non-null   float64\n",
      " 11  assists             1876 non-null   float64\n",
      " 12  steals              1876 non-null   float64\n",
      " 13  blocks              1876 non-null   float64\n",
      " 14  turnovers           1876 non-null   float64\n",
      " 15  PF                  1876 non-null   float64\n",
      " 16  fgAttempted         1876 non-null   float64\n",
      " 17  fgMade              1876 non-null   float64\n",
      " 18  ftAttempted         1876 non-null   float64\n",
      " 19  ftMade              1876 non-null   float64\n",
      " 20  threeAttempted      1876 non-null   float64\n",
      " 21  threeMade           1876 non-null   float64\n",
      " 22  dq                  1876 non-null   float64\n",
      " 23  PostGP              1876 non-null   float64\n",
      " 24  PostGS              1876 non-null   float64\n",
      " 25  PostMinutes         1876 non-null   float64\n",
      " 26  PostPoints          1876 non-null   float64\n",
      " 27  PostoRebounds       1876 non-null   float64\n",
      " 28  PostdRebounds       1876 non-null   float64\n",
      " 29  PostRebounds        1876 non-null   float64\n",
      " 30  PostAssists         1876 non-null   float64\n",
      " 31  PostSteals          1876 non-null   float64\n",
      " 32  PostBlocks          1876 non-null   float64\n",
      " 33  PostTurnovers       1876 non-null   float64\n",
      " 34  PostPF              1876 non-null   float64\n",
      " 35  PostfgAttempted     1876 non-null   float64\n",
      " 36  PostfgMade          1876 non-null   float64\n",
      " 37  PostftAttempted     1876 non-null   float64\n",
      " 38  PostftMade          1876 non-null   float64\n",
      " 39  PostthreeAttempted  1876 non-null   float64\n",
      " 40  PostthreeMade       1876 non-null   float64\n",
      " 41  PostDQ              1876 non-null   float64\n",
      "dtypes: float64(38), int64(2), object(2)\n",
      "memory usage: 615.7+ KB\n",
      "None None\n"
     ]
    }
   ],
   "source": [
    "df_players_teams_copy = df_players_teams.copy()\n",
    "\n",
    "average_collumns = [\"GP\",\"GS\",\"minutes\",\"points\",\"oRebounds\",\"dRebounds\",\"rebounds\",\"assists\",\"steals\",\"blocks\",\"turnovers\",\"PF\",\"fgAttempted\",\"fgMade\",\"ftAttempted\",\"ftMade\",\"threeAttempted\",\"threeMade\",\"dq\",\"PostGP\",\"PostGS\",\"PostMinutes\",\"PostPoints\",\"PostoRebounds\",\"PostdRebounds\",\"PostRebounds\",\"PostAssists\",\"PostSteals\",\"PostBlocks\",\"PostTurnovers\",\"PostPF\",\"PostfgAttempted\",\"PostfgMade\",\"PostftAttempted\",\"PostftMade\",\"PostthreeAttempted\",\"PostthreeMade\",\"PostDQ\"]\n",
    "for year in years:\n",
    "    for team in teams:\n",
    "        players = df_players_teams[(df_players_teams['year'] == year) & (df_players_teams['tmID'] == team)]['playerID'].unique()\n",
    "        for player in players:\n",
    "            for column in average_collumns:\n",
    "                #df_players_teams_copy.loc[(df_players_teams_copy['year'] == year) & (df_players_teams_copy['tmID'] == team) & (df_players_teams_copy['playerID'] == player), column] = df_players_teams[(df_players_teams['year'] < year) & (df_players_teams['tmID'] == team) & (df_players_teams['playerID'] == player)][column].mean()\n",
    "                df_players_teams_copy.loc[(df_players_teams_copy['year'] == year) & (df_players_teams_copy['tmID'] == team) & (df_players_teams_copy['playerID'] == player), column] = df_players_teams[(df_players_teams['year'] >= (year - years_back)) &(df_players_teams['year'] < year)  & (df_players_teams['playerID'] == player)][column].mean()\n",
    "\n",
    "df_players_teams_copy.fillna(0, inplace=True)\n",
    "df_players_teams_copy.to_csv('data/players_teams_processed.csv', index=False)\n",
    "print(df_players_teams.info(), df_players_teams_copy.info())"
   ]
  },
  {
   "cell_type": "code",
   "execution_count": 23,
   "metadata": {},
   "outputs": [],
   "source": [
    "df_coaches_copy = df_coaches.copy()\n",
    "\n",
    "average_collumns = [\"won\",\"lost\",\"post_wins\",\"post_losses\"]\n",
    "for year in years:\n",
    "    for team in teams:\n",
    "        coaches= df_coaches[(df_coaches['year'] == year) & (df_coaches['tmID'] == team)]['coachID'].unique()\n",
    "        for coach in coaches:\n",
    "            for column in average_collumns:\n",
    "                #df_coaches_copy.loc[(df_coaches_copy['year'] == year) & (df_coaches_copy['tmID'] == team), column] = agg_coaches_df[(agg_coaches_df['year'] < year) & (agg_coaches_df['tmID'] == team)][column].mean()\n",
    "                df_coaches_copy.loc[(df_coaches_copy['year'] == year) & (df_coaches_copy['tmID'] == team) & (df_coaches_copy['coachID'] == coach), column] = df_coaches[(df_coaches['year'] >= (year - years_back)) &(df_coaches['year'] < year) & (df_coaches['coachID'] == coach)][column].mean()\n",
    "\n",
    "agg_coaches_df = df_coaches_copy.groupby([\"year\", \"tmID\"]).agg({\n",
    "    \"won\": \"sum\",\n",
    "    \"lost\": \"sum\",\n",
    "    \"post_wins\": \"sum\",\n",
    "    \"post_losses\": \"sum\",\n",
    "}).reset_index()\n",
    "agg_coaches_df.fillna(0, inplace=True)\n",
    "agg_coaches_df.to_csv('data/coaches_processed.csv', index=False)\n"
   ]
  },
  {
   "cell_type": "markdown",
   "metadata": {},
   "source": [
    "### Awards"
   ]
  },
  {
   "cell_type": "code",
   "execution_count": null,
   "metadata": {},
   "outputs": [],
   "source": [
    "award_counts = df_awards_players.groupby([\"year\", \"playerID\"]).size().reset_index(name=\"award_count\")\n",
    "award_counts_copy = award_counts.copy()\n",
    "sum_collumns = ['award_count']\n",
    "\n",
    "for year in years:\n",
    "    players = award_counts[(award_counts['year'] == year)]['playerID'].unique()\n",
    "    for player in players:\n",
    "        for column in sum_collumns:\n",
    "            award_counts_copy.loc[(award_counts_copy['year'] == year) & (award_counts_copy['playerID'] == player), column] = award_counts[(award_counts['year'] >= (year - years_back)) &(award_counts['year'] < year) & (award_counts['playerID'] == player)][column].sum()\n",
    "\n",
    "award_counts_copy.fillna(0, inplace=True)\n",
    "award_counts_copy.to_csv('data/awards_players_processed.csv', index=False)"
   ]
  },
  {
   "cell_type": "markdown",
   "metadata": {},
   "source": []
  }
 ],
 "metadata": {
  "kernelspec": {
   "display_name": "Python 3",
   "language": "python",
   "name": "python3"
  },
  "language_info": {
   "codemirror_mode": {
    "name": "ipython",
    "version": 3
   },
   "file_extension": ".py",
   "mimetype": "text/x-python",
   "name": "python",
   "nbconvert_exporter": "python",
   "pygments_lexer": "ipython3",
   "version": "3.10.11"
  },
  "orig_nbformat": 4
 },
 "nbformat": 4,
 "nbformat_minor": 2
}
