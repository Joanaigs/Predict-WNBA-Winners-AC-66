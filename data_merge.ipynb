{
 "cells": [
  {
   "cell_type": "markdown",
   "metadata": {},
   "source": [
    "## Imports"
   ]
  },
  {
   "cell_type": "code",
   "execution_count": 99,
   "metadata": {},
   "outputs": [],
   "source": [
    "import pandas as pd"
   ]
  },
  {
   "cell_type": "code",
   "execution_count": 100,
   "metadata": {},
   "outputs": [],
   "source": [
    "df_awards_players = pd.read_csv('data/awards_players_processed.csv')\n",
    "df_coaches = pd.read_csv('data/coaches_processed.csv')\n",
    "df_players_teams = pd.read_csv('data/players_teams_processed.csv')\n",
    "df_players = pd.read_csv('data/players_processed.csv')\n",
    "df_series_post = pd.read_csv('data/series_post_processed.csv')\n",
    "df_teams = pd.read_csv('data/teams_processed.csv')\n",
    "df_teams_post = pd.read_csv('data/teams_post_processed.csv')"
   ]
  },
  {
   "cell_type": "markdown",
   "metadata": {},
   "source": [
    "## Merge datasets"
   ]
  },
  {
   "cell_type": "markdown",
   "metadata": {},
   "source": [
    "Agregate the data from series_post by the number of wins of each player and the number of losses, then join it to the Teams dataset "
   ]
  },
  {
   "cell_type": "code",
   "execution_count": 101,
   "metadata": {},
   "outputs": [
    {
     "name": "stdout",
     "output_type": "stream",
     "text": [
      "<class 'pandas.core.frame.DataFrame'>\n",
      "RangeIndex: 142 entries, 0 to 141\n",
      "Data columns (total 7 columns):\n",
      " #   Column        Non-Null Count  Dtype  \n",
      "---  ------        --------------  -----  \n",
      " 0   year          142 non-null    int64  \n",
      " 1   tmID          142 non-null    object \n",
      " 2   playoff       142 non-null    int64  \n",
      " 3   confID_EA     142 non-null    float64\n",
      " 4   confID_WE     142 non-null    float64\n",
      " 5   total_wins    142 non-null    float64\n",
      " 6   total_losses  142 non-null    float64\n",
      "dtypes: float64(4), int64(2), object(1)\n",
      "memory usage: 7.9+ KB\n"
     ]
    }
   ],
   "source": [
    "\n",
    "# Join the team statistics with the second DataFrame\n",
    "df_teams = pd.merge(df_teams, df_series_post, on=[\"year\", \"tmID\"], how=\"left\").fillna(0)\n",
    "\n",
    "df_teams.info()\n"
   ]
  },
  {
   "cell_type": "markdown",
   "metadata": {},
   "source": [
    "Agregate data from players team, players info and awards and join it to the Teams dataset"
   ]
  },
  {
   "cell_type": "code",
   "execution_count": 102,
   "metadata": {},
   "outputs": [
    {
     "name": "stdout",
     "output_type": "stream",
     "text": [
      "<class 'pandas.core.frame.DataFrame'>\n",
      "RangeIndex: 1290 entries, 0 to 1289\n",
      "Data columns (total 50 columns):\n",
      " #   Column              Non-Null Count  Dtype  \n",
      "---  ------              --------------  -----  \n",
      " 0   playerID            1290 non-null   object \n",
      " 1   year                1290 non-null   int64  \n",
      " 2   tmID                1290 non-null   object \n",
      " 3   GP                  1290 non-null   float64\n",
      " 4   GS                  1290 non-null   float64\n",
      " 5   minutes             1290 non-null   float64\n",
      " 6   points              1290 non-null   float64\n",
      " 7   oRebounds           1290 non-null   float64\n",
      " 8   dRebounds           1290 non-null   float64\n",
      " 9   rebounds            1290 non-null   float64\n",
      " 10  assists             1290 non-null   float64\n",
      " 11  steals              1290 non-null   float64\n",
      " 12  blocks              1290 non-null   float64\n",
      " 13  turnovers           1290 non-null   float64\n",
      " 14  PF                  1290 non-null   float64\n",
      " 15  fgAttempted         1290 non-null   float64\n",
      " 16  fgMade              1290 non-null   float64\n",
      " 17  ftAttempted         1290 non-null   float64\n",
      " 18  ftMade              1290 non-null   float64\n",
      " 19  threeAttempted      1290 non-null   float64\n",
      " 20  threeMade           1290 non-null   float64\n",
      " 21  dq                  1290 non-null   float64\n",
      " 22  PostGP              1290 non-null   float64\n",
      " 23  PostGS              1290 non-null   float64\n",
      " 24  PostMinutes         1290 non-null   float64\n",
      " 25  PostPoints          1290 non-null   float64\n",
      " 26  PostoRebounds       1290 non-null   float64\n",
      " 27  PostdRebounds       1290 non-null   float64\n",
      " 28  PostRebounds        1290 non-null   float64\n",
      " 29  PostAssists         1290 non-null   float64\n",
      " 30  PostSteals          1290 non-null   float64\n",
      " 31  PostBlocks          1290 non-null   float64\n",
      " 32  PostTurnovers       1290 non-null   float64\n",
      " 33  PostPF              1290 non-null   float64\n",
      " 34  PostfgAttempted     1290 non-null   float64\n",
      " 35  PostfgMade          1290 non-null   float64\n",
      " 36  PostftAttempted     1290 non-null   float64\n",
      " 37  PostftMade          1290 non-null   float64\n",
      " 38  PostthreeAttempted  1290 non-null   float64\n",
      " 39  PostthreeMade       1290 non-null   float64\n",
      " 40  PostDQ              1290 non-null   float64\n",
      " 41  bioID               1290 non-null   object \n",
      " 42  pos                 1290 non-null   object \n",
      " 43  height              1290 non-null   float64\n",
      " 44  weight              1290 non-null   int64  \n",
      " 45  college             1290 non-null   object \n",
      " 46  collegeOther        1290 non-null   object \n",
      " 47  birthDate           1290 non-null   object \n",
      " 48  deathDate           1290 non-null   object \n",
      " 49  award_count         1290 non-null   float64\n",
      "dtypes: float64(40), int64(2), object(8)\n",
      "memory usage: 504.0+ KB\n"
     ]
    }
   ],
   "source": [
    "players_teams_info_df = pd.merge(df_players_teams, df_players, left_on='playerID', right_on='bioID', how='left')\n",
    "players_teams_info_df = pd.merge(players_teams_info_df, df_awards_players, on=['playerID', 'year'], how='left').fillna(0)\n",
    "players_teams_info_df.info()"
   ]
  },
  {
   "cell_type": "markdown",
   "metadata": {},
   "source": [
    "For each team and year agregate the statistics of the players in the team and join it to the Teams dataset."
   ]
  },
  {
   "cell_type": "code",
   "execution_count": 103,
   "metadata": {},
   "outputs": [],
   "source": [
    "agg_players_df = players_teams_info_df.groupby([\"year\", \"tmID\"]).agg({\n",
    "    \"GP\": \"mean\",\n",
    "    \"GS\": \"mean\",\n",
    "    \"minutes\": \"mean\",\n",
    "    \"points\": \"mean\",\n",
    "    \"oRebounds\": \"mean\",\n",
    "    \"dRebounds\": \"mean\",\n",
    "    \"rebounds\": \"mean\",\n",
    "    \"assists\": \"mean\",\n",
    "    \"steals\": \"mean\",\n",
    "    \"blocks\": \"mean\",\n",
    "    \"turnovers\": \"mean\",\n",
    "    \"PF\": \"mean\",\n",
    "    \"fgAttempted\": \"mean\",\n",
    "    \"fgMade\": \"mean\",\n",
    "    \"ftAttempted\": \"mean\",\n",
    "    \"ftMade\": \"mean\",\n",
    "    \"threeAttempted\": \"mean\",\n",
    "    \"threeMade\": \"mean\",\n",
    "    \"dq\": \"mean\",\n",
    "    \"PostGP\": \"mean\",\n",
    "    \"PostGS\": \"mean\",\n",
    "    \"PostMinutes\": \"mean\",\n",
    "    \"PostPoints\": \"mean\",\n",
    "    \"PostoRebounds\": \"mean\",\n",
    "    \"PostdRebounds\": \"mean\",\n",
    "    \"PostRebounds\": \"mean\",\n",
    "    \"PostAssists\": \"mean\",\n",
    "    \"PostSteals\": \"mean\",\n",
    "    \"PostBlocks\": \"mean\",\n",
    "    \"PostTurnovers\": \"mean\",\n",
    "    \"PostPF\": \"mean\",\n",
    "    \"PostfgAttempted\": \"mean\",\n",
    "    \"PostfgMade\": \"mean\",\n",
    "    \"PostftAttempted\": \"mean\",\n",
    "    \"PostftMade\": \"mean\",\n",
    "    \"PostthreeAttempted\": \"mean\",\n",
    "    \"PostthreeMade\": \"mean\",\n",
    "    \"PostDQ\": \"mean\",\n",
    "    \"height\": \"mean\",\n",
    "    \"weight\": \"mean\",\n",
    "    \"award_count\": \"mean\",\n",
    "\n",
    "    # Add more columns you want to aggregate here\n",
    "}).reset_index()\n",
    "\n",
    "# agg_players_df['GP'] = agg_players_df['GP'] + agg_players_df['PostGP']\n",
    "# agg_players_df['GS'] = agg_players_df['GS'] + agg_players_df['PostGS']\n",
    "# agg_players_df['minutes'] = agg_players_df['minutes'] + agg_players_df['PostMinutes']\n",
    "# agg_players_df['points'] = agg_players_df['points'] + agg_players_df['PostPoints']\n",
    "# agg_players_df['oRebounds'] = agg_players_df['oRebounds'] + agg_players_df['PostoRebounds']\n",
    "# agg_players_df['dRebounds'] = agg_players_df['dRebounds'] + agg_players_df['PostdRebounds']\n",
    "# agg_players_df['rebounds'] = agg_players_df['rebounds'] + agg_players_df['PostRebounds']\n",
    "# agg_players_df['assists'] = agg_players_df['assists'] + agg_players_df['PostAssists']\n",
    "# agg_players_df['steals'] = agg_players_df['steals'] + agg_players_df['PostSteals']\n",
    "# agg_players_df['blocks'] = agg_players_df['blocks'] + agg_players_df['PostBlocks']\n",
    "# agg_players_df['turnovers'] = agg_players_df['turnovers'] + agg_players_df['PostTurnovers']\n",
    "# agg_players_df['PF'] = agg_players_df['PF'] + agg_players_df['PostPF']\n",
    "# agg_players_df['fgAttempted'] = agg_players_df['fgAttempted'] + agg_players_df['PostfgAttempted']\n",
    "# agg_players_df['fgMade'] = agg_players_df['fgMade'] + agg_players_df['PostfgMade']\n",
    "# agg_players_df['ftAttempted'] = agg_players_df['ftAttempted'] + agg_players_df['PostftAttempted']\n",
    "# agg_players_df['ftMade'] = agg_players_df['ftMade'] + agg_players_df['PostftMade']\n",
    "# agg_players_df['threeAttempted'] = agg_players_df['threeAttempted'] + agg_players_df['PostthreeAttempted']\n",
    "# agg_players_df['threeMade'] = agg_players_df['threeMade'] + agg_players_df['PostthreeMade']\n",
    "# agg_players_df['dq'] = agg_players_df['dq'] + agg_players_df['PostDQ']\n",
    "\n",
    "#agg_players_df.drop(columns=['PostGP', 'PostGS', 'PostMinutes', 'PostPoints', 'PostoRebounds', 'PostdRebounds', 'PostRebounds', 'PostAssists', 'PostSteals', 'PostBlocks', 'PostTurnovers', 'PostPF', 'PostfgAttempted', 'PostfgMade', 'PostftAttempted', 'PostftMade', 'PostthreeAttempted', 'PostthreeMade', 'PostDQ'], inplace=True)\n",
    "\n",
    "\n",
    "df_teams = pd.merge(df_teams, agg_players_df, on=['year', 'tmID'], how='left').fillna(0)\n",
    "#agg_players_df.head()"
   ]
  },
  {
   "cell_type": "code",
   "execution_count": 104,
   "metadata": {},
   "outputs": [
    {
     "name": "stdout",
     "output_type": "stream",
     "text": [
      "<class 'pandas.core.frame.DataFrame'>\n",
      "RangeIndex: 142 entries, 0 to 141\n",
      "Data columns (total 48 columns):\n",
      " #   Column              Non-Null Count  Dtype  \n",
      "---  ------              --------------  -----  \n",
      " 0   year                142 non-null    int64  \n",
      " 1   tmID                142 non-null    object \n",
      " 2   playoff             142 non-null    int64  \n",
      " 3   confID_EA           142 non-null    float64\n",
      " 4   confID_WE           142 non-null    float64\n",
      " 5   total_wins          142 non-null    float64\n",
      " 6   total_losses        142 non-null    float64\n",
      " 7   GP                  142 non-null    float64\n",
      " 8   GS                  142 non-null    float64\n",
      " 9   minutes             142 non-null    float64\n",
      " 10  points              142 non-null    float64\n",
      " 11  oRebounds           142 non-null    float64\n",
      " 12  dRebounds           142 non-null    float64\n",
      " 13  rebounds            142 non-null    float64\n",
      " 14  assists             142 non-null    float64\n",
      " 15  steals              142 non-null    float64\n",
      " 16  blocks              142 non-null    float64\n",
      " 17  turnovers           142 non-null    float64\n",
      " 18  PF                  142 non-null    float64\n",
      " 19  fgAttempted         142 non-null    float64\n",
      " 20  fgMade              142 non-null    float64\n",
      " 21  ftAttempted         142 non-null    float64\n",
      " 22  ftMade              142 non-null    float64\n",
      " 23  threeAttempted      142 non-null    float64\n",
      " 24  threeMade           142 non-null    float64\n",
      " 25  dq                  142 non-null    float64\n",
      " 26  PostGP              142 non-null    float64\n",
      " 27  PostGS              142 non-null    float64\n",
      " 28  PostMinutes         142 non-null    float64\n",
      " 29  PostPoints          142 non-null    float64\n",
      " 30  PostoRebounds       142 non-null    float64\n",
      " 31  PostdRebounds       142 non-null    float64\n",
      " 32  PostRebounds        142 non-null    float64\n",
      " 33  PostAssists         142 non-null    float64\n",
      " 34  PostSteals          142 non-null    float64\n",
      " 35  PostBlocks          142 non-null    float64\n",
      " 36  PostTurnovers       142 non-null    float64\n",
      " 37  PostPF              142 non-null    float64\n",
      " 38  PostfgAttempted     142 non-null    float64\n",
      " 39  PostfgMade          142 non-null    float64\n",
      " 40  PostftAttempted     142 non-null    float64\n",
      " 41  PostftMade          142 non-null    float64\n",
      " 42  PostthreeAttempted  142 non-null    float64\n",
      " 43  PostthreeMade       142 non-null    float64\n",
      " 44  PostDQ              142 non-null    float64\n",
      " 45  height              142 non-null    float64\n",
      " 46  weight              142 non-null    float64\n",
      " 47  award_count         142 non-null    float64\n",
      "dtypes: float64(45), int64(2), object(1)\n",
      "memory usage: 53.4+ KB\n"
     ]
    }
   ],
   "source": [
    "df_teams.info()"
   ]
  },
  {
   "cell_type": "markdown",
   "metadata": {},
   "source": [
    "Merge team information with coach information"
   ]
  },
  {
   "cell_type": "code",
   "execution_count": 105,
   "metadata": {},
   "outputs": [
    {
     "name": "stdout",
     "output_type": "stream",
     "text": [
      "<class 'pandas.core.frame.DataFrame'>\n",
      "RangeIndex: 162 entries, 0 to 161\n",
      "Data columns (total 10 columns):\n",
      " #   Column       Non-Null Count  Dtype  \n",
      "---  ------       --------------  -----  \n",
      " 0   coachID      162 non-null    object \n",
      " 1   year         162 non-null    int64  \n",
      " 2   tmID         162 non-null    object \n",
      " 3   stint        162 non-null    int64  \n",
      " 4   won          162 non-null    float64\n",
      " 5   lost         162 non-null    float64\n",
      " 6   post_wins    162 non-null    float64\n",
      " 7   post_losses  162 non-null    float64\n",
      " 8   playerID     162 non-null    object \n",
      " 9   award_count  162 non-null    float64\n",
      "dtypes: float64(5), int64(2), object(3)\n",
      "memory usage: 12.8+ KB\n"
     ]
    }
   ],
   "source": [
    "df_coaches_with_awards = pd.merge(df_coaches, df_awards_players, left_on=['coachID', 'year'], right_on=['playerID', 'year'], how='left').fillna(0)\n",
    "df_coaches_with_awards.info()"
   ]
  },
  {
   "cell_type": "code",
   "execution_count": 106,
   "metadata": {},
   "outputs": [
    {
     "name": "stdout",
     "output_type": "stream",
     "text": [
      "<class 'pandas.core.frame.DataFrame'>\n",
      "RangeIndex: 142 entries, 0 to 141\n",
      "Data columns (total 53 columns):\n",
      " #   Column              Non-Null Count  Dtype  \n",
      "---  ------              --------------  -----  \n",
      " 0   year                142 non-null    int64  \n",
      " 1   tmID                142 non-null    object \n",
      " 2   playoff             142 non-null    int64  \n",
      " 3   confID_EA           142 non-null    float64\n",
      " 4   confID_WE           142 non-null    float64\n",
      " 5   total_wins          142 non-null    float64\n",
      " 6   total_losses        142 non-null    float64\n",
      " 7   GP                  142 non-null    float64\n",
      " 8   GS                  142 non-null    float64\n",
      " 9   minutes             142 non-null    float64\n",
      " 10  points              142 non-null    float64\n",
      " 11  oRebounds           142 non-null    float64\n",
      " 12  dRebounds           142 non-null    float64\n",
      " 13  rebounds            142 non-null    float64\n",
      " 14  assists             142 non-null    float64\n",
      " 15  steals              142 non-null    float64\n",
      " 16  blocks              142 non-null    float64\n",
      " 17  turnovers           142 non-null    float64\n",
      " 18  PF                  142 non-null    float64\n",
      " 19  fgAttempted         142 non-null    float64\n",
      " 20  fgMade              142 non-null    float64\n",
      " 21  ftAttempted         142 non-null    float64\n",
      " 22  ftMade              142 non-null    float64\n",
      " 23  threeAttempted      142 non-null    float64\n",
      " 24  threeMade           142 non-null    float64\n",
      " 25  dq                  142 non-null    float64\n",
      " 26  PostGP              142 non-null    float64\n",
      " 27  PostGS              142 non-null    float64\n",
      " 28  PostMinutes         142 non-null    float64\n",
      " 29  PostPoints          142 non-null    float64\n",
      " 30  PostoRebounds       142 non-null    float64\n",
      " 31  PostdRebounds       142 non-null    float64\n",
      " 32  PostRebounds        142 non-null    float64\n",
      " 33  PostAssists         142 non-null    float64\n",
      " 34  PostSteals          142 non-null    float64\n",
      " 35  PostBlocks          142 non-null    float64\n",
      " 36  PostTurnovers       142 non-null    float64\n",
      " 37  PostPF              142 non-null    float64\n",
      " 38  PostfgAttempted     142 non-null    float64\n",
      " 39  PostfgMade          142 non-null    float64\n",
      " 40  PostftAttempted     142 non-null    float64\n",
      " 41  PostftMade          142 non-null    float64\n",
      " 42  PostthreeAttempted  142 non-null    float64\n",
      " 43  PostthreeMade       142 non-null    float64\n",
      " 44  PostDQ              142 non-null    float64\n",
      " 45  height              142 non-null    float64\n",
      " 46  weight              142 non-null    float64\n",
      " 47  award_count_x       142 non-null    float64\n",
      " 48  won                 142 non-null    float64\n",
      " 49  lost                142 non-null    float64\n",
      " 50  post_wins           142 non-null    float64\n",
      " 51  post_losses         142 non-null    float64\n",
      " 52  award_count_y       142 non-null    float64\n",
      "dtypes: float64(50), int64(2), object(1)\n",
      "memory usage: 58.9+ KB\n"
     ]
    }
   ],
   "source": [
    "agg_coaches_df = df_coaches_with_awards.groupby([\"year\", \"tmID\"]).agg({\n",
    "    \"won\": \"sum\",\n",
    "    \"lost\": \"sum\",\n",
    "    \"post_wins\": \"sum\",\n",
    "    \"post_losses\": \"sum\",\n",
    "    \"award_count\": \"sum\",\n",
    "}).reset_index()\n",
    "\n",
    "df_teams = pd.merge(df_teams, agg_coaches_df, on=['year', 'tmID'], how='left')\n",
    "df_teams.info()"
   ]
  },
  {
   "cell_type": "markdown",
   "metadata": {},
   "source": [
    "Merges the teams with teams post and added the value 0 to the teams that did not have any wins or losses"
   ]
  },
  {
   "cell_type": "code",
   "execution_count": 107,
   "metadata": {},
   "outputs": [
    {
     "name": "stdout",
     "output_type": "stream",
     "text": [
      "<class 'pandas.core.frame.DataFrame'>\n",
      "RangeIndex: 142 entries, 0 to 141\n",
      "Data columns (total 55 columns):\n",
      " #   Column              Non-Null Count  Dtype  \n",
      "---  ------              --------------  -----  \n",
      " 0   year                142 non-null    int64  \n",
      " 1   tmID                142 non-null    object \n",
      " 2   playoff             142 non-null    int64  \n",
      " 3   confID_EA           142 non-null    float64\n",
      " 4   confID_WE           142 non-null    float64\n",
      " 5   total_wins          142 non-null    float64\n",
      " 6   total_losses        142 non-null    float64\n",
      " 7   GP                  142 non-null    float64\n",
      " 8   GS                  142 non-null    float64\n",
      " 9   minutes             142 non-null    float64\n",
      " 10  points              142 non-null    float64\n",
      " 11  oRebounds           142 non-null    float64\n",
      " 12  dRebounds           142 non-null    float64\n",
      " 13  rebounds            142 non-null    float64\n",
      " 14  assists             142 non-null    float64\n",
      " 15  steals              142 non-null    float64\n",
      " 16  blocks              142 non-null    float64\n",
      " 17  turnovers           142 non-null    float64\n",
      " 18  PF                  142 non-null    float64\n",
      " 19  fgAttempted         142 non-null    float64\n",
      " 20  fgMade              142 non-null    float64\n",
      " 21  ftAttempted         142 non-null    float64\n",
      " 22  ftMade              142 non-null    float64\n",
      " 23  threeAttempted      142 non-null    float64\n",
      " 24  threeMade           142 non-null    float64\n",
      " 25  dq                  142 non-null    float64\n",
      " 26  PostGP              142 non-null    float64\n",
      " 27  PostGS              142 non-null    float64\n",
      " 28  PostMinutes         142 non-null    float64\n",
      " 29  PostPoints          142 non-null    float64\n",
      " 30  PostoRebounds       142 non-null    float64\n",
      " 31  PostdRebounds       142 non-null    float64\n",
      " 32  PostRebounds        142 non-null    float64\n",
      " 33  PostAssists         142 non-null    float64\n",
      " 34  PostSteals          142 non-null    float64\n",
      " 35  PostBlocks          142 non-null    float64\n",
      " 36  PostTurnovers       142 non-null    float64\n",
      " 37  PostPF              142 non-null    float64\n",
      " 38  PostfgAttempted     142 non-null    float64\n",
      " 39  PostfgMade          142 non-null    float64\n",
      " 40  PostftAttempted     142 non-null    float64\n",
      " 41  PostftMade          142 non-null    float64\n",
      " 42  PostthreeAttempted  142 non-null    float64\n",
      " 43  PostthreeMade       142 non-null    float64\n",
      " 44  PostDQ              142 non-null    float64\n",
      " 45  height              142 non-null    float64\n",
      " 46  weight              142 non-null    float64\n",
      " 47  award_count_x       142 non-null    float64\n",
      " 48  won                 142 non-null    float64\n",
      " 49  lost                142 non-null    float64\n",
      " 50  post_wins           142 non-null    float64\n",
      " 51  post_losses         142 non-null    float64\n",
      " 52  award_count_y       142 non-null    float64\n",
      " 53  W                   142 non-null    float64\n",
      " 54  L                   142 non-null    float64\n",
      "dtypes: float64(52), int64(2), object(1)\n",
      "memory usage: 61.1+ KB\n"
     ]
    }
   ],
   "source": [
    "df_teams = pd.merge(df_teams, df_teams_post, on=['year', 'tmID'], how='left').fillna(0)\n",
    "df_teams.info()"
   ]
  },
  {
   "cell_type": "code",
   "execution_count": 108,
   "metadata": {},
   "outputs": [],
   "source": [
    "df_teams.to_csv('data_merged.csv', index=False)"
   ]
  }
 ],
 "metadata": {
  "kernelspec": {
   "display_name": "Python 3",
   "language": "python",
   "name": "python3"
  },
  "language_info": {
   "codemirror_mode": {
    "name": "ipython",
    "version": 3
   },
   "file_extension": ".py",
   "mimetype": "text/x-python",
   "name": "python",
   "nbconvert_exporter": "python",
   "pygments_lexer": "ipython3",
   "version": "3.10.11"
  },
  "orig_nbformat": 4
 },
 "nbformat": 4,
 "nbformat_minor": 2
}
