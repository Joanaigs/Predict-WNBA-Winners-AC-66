{
 "cells": [
  {
   "cell_type": "markdown",
   "metadata": {},
   "source": [
    "## Imports"
   ]
  },
  {
   "cell_type": "code",
   "execution_count": 74,
   "metadata": {},
   "outputs": [],
   "source": [
    "import pandas as pd"
   ]
  },
  {
   "cell_type": "code",
   "execution_count": 75,
   "metadata": {},
   "outputs": [],
   "source": [
    "df_awards_players = pd.read_csv('data/awards_players_processed.csv')\n",
    "df_coaches = pd.read_csv('data/coaches_processed.csv')\n",
    "df_players_teams = pd.read_csv('data/players_teams_processed.csv')\n",
    "df_players = pd.read_csv('data/players_processed.csv')\n",
    "df_series_post = pd.read_csv('data/series_post_processed.csv')\n",
    "df_teams = pd.read_csv('data/teams_processed.csv')\n",
    "df_teams_post = pd.read_csv('data/teams_post_processed.csv')"
   ]
  },
  {
   "cell_type": "markdown",
   "metadata": {},
   "source": [
    "## Merge datasets"
   ]
  },
  {
   "cell_type": "markdown",
   "metadata": {},
   "source": [
    "Agregate the data from series_post by the number of wins of each player and the number of losses, then join it to the Teams dataset "
   ]
  },
  {
   "cell_type": "code",
   "execution_count": 76,
   "metadata": {},
   "outputs": [
    {
     "name": "stdout",
     "output_type": "stream",
     "text": [
      "<class 'pandas.core.frame.DataFrame'>\n",
      "RangeIndex: 142 entries, 0 to 141\n",
      "Data columns (total 17 columns):\n",
      " #   Column                   Non-Null Count  Dtype  \n",
      "---  ------                   --------------  -----  \n",
      " 0   year                     142 non-null    int64  \n",
      " 1   tmID                     142 non-null    object \n",
      " 2   rank                     142 non-null    float64\n",
      " 3   playoff                  142 non-null    int64  \n",
      " 4   homeW                    142 non-null    float64\n",
      " 5   homeL                    142 non-null    float64\n",
      " 6   awayW                    142 non-null    float64\n",
      " 7   awayL                    142 non-null    float64\n",
      " 8   confW                    142 non-null    float64\n",
      " 9   confL                    142 non-null    float64\n",
      " 10  min                      142 non-null    float64\n",
      " 11  attend                   142 non-null    float64\n",
      " 12  num_playoff_appearances  142 non-null    float64\n",
      " 13  mean_won                 142 non-null    float64\n",
      " 14  mean_lost                142 non-null    float64\n",
      " 15  confID_EA                142 non-null    float64\n",
      " 16  confID_WE                142 non-null    float64\n",
      "dtypes: float64(14), int64(2), object(1)\n",
      "memory usage: 19.0+ KB\n"
     ]
    }
   ],
   "source": [
    "\n",
    "# Join the team statistics with the second DataFrame\n",
    "#df_teams = pd.merge(df_teams, df_series_post, on=[\"year\", \"tmID\"], how=\"left\").fillna(0)\n",
    "\n",
    "df_teams.info()\n"
   ]
  },
  {
   "cell_type": "markdown",
   "metadata": {},
   "source": [
    "Agregate data from players team, players info and awards and join it to the Teams dataset"
   ]
  },
  {
   "cell_type": "code",
   "execution_count": 77,
   "metadata": {},
   "outputs": [
    {
     "name": "stdout",
     "output_type": "stream",
     "text": [
      "<class 'pandas.core.frame.DataFrame'>\n",
      "RangeIndex: 1303 entries, 0 to 1302\n",
      "Data columns (total 50 columns):\n",
      " #   Column              Non-Null Count  Dtype  \n",
      "---  ------              --------------  -----  \n",
      " 0   playerID            1303 non-null   object \n",
      " 1   year                1303 non-null   int64  \n",
      " 2   tmID                1303 non-null   object \n",
      " 3   GP                  1303 non-null   float64\n",
      " 4   GS                  1303 non-null   float64\n",
      " 5   minutes             1303 non-null   float64\n",
      " 6   points              1303 non-null   float64\n",
      " 7   oRebounds           1303 non-null   float64\n",
      " 8   dRebounds           1303 non-null   float64\n",
      " 9   rebounds            1303 non-null   float64\n",
      " 10  assists             1303 non-null   float64\n",
      " 11  steals              1303 non-null   float64\n",
      " 12  blocks              1303 non-null   float64\n",
      " 13  turnovers           1303 non-null   float64\n",
      " 14  PF                  1303 non-null   float64\n",
      " 15  fgAttempted         1303 non-null   float64\n",
      " 16  fgMade              1303 non-null   float64\n",
      " 17  ftAttempted         1303 non-null   float64\n",
      " 18  ftMade              1303 non-null   float64\n",
      " 19  threeAttempted      1303 non-null   float64\n",
      " 20  threeMade           1303 non-null   float64\n",
      " 21  dq                  1303 non-null   float64\n",
      " 22  PostGP              1303 non-null   float64\n",
      " 23  PostGS              1303 non-null   float64\n",
      " 24  PostMinutes         1303 non-null   float64\n",
      " 25  PostPoints          1303 non-null   float64\n",
      " 26  PostoRebounds       1303 non-null   float64\n",
      " 27  PostdRebounds       1303 non-null   float64\n",
      " 28  PostRebounds        1303 non-null   float64\n",
      " 29  PostAssists         1303 non-null   float64\n",
      " 30  PostSteals          1303 non-null   float64\n",
      " 31  PostBlocks          1303 non-null   float64\n",
      " 32  PostTurnovers       1303 non-null   float64\n",
      " 33  PostPF              1303 non-null   float64\n",
      " 34  PostfgAttempted     1303 non-null   float64\n",
      " 35  PostfgMade          1303 non-null   float64\n",
      " 36  PostftAttempted     1303 non-null   float64\n",
      " 37  PostftMade          1303 non-null   float64\n",
      " 38  PostthreeAttempted  1303 non-null   float64\n",
      " 39  PostthreeMade       1303 non-null   float64\n",
      " 40  PostDQ              1303 non-null   float64\n",
      " 41  bioID               1303 non-null   object \n",
      " 42  pos                 1303 non-null   object \n",
      " 43  height              1303 non-null   float64\n",
      " 44  weight              1303 non-null   float64\n",
      " 45  college             1303 non-null   object \n",
      " 46  collegeOther        1303 non-null   object \n",
      " 47  birthDate           1303 non-null   object \n",
      " 48  deathDate           1303 non-null   object \n",
      " 49  award_count         1303 non-null   float64\n",
      "dtypes: float64(41), int64(1), object(8)\n",
      "memory usage: 509.1+ KB\n"
     ]
    }
   ],
   "source": [
    "players_teams_info_df = pd.merge(df_players_teams, df_players, left_on='playerID', right_on='bioID', how='left')\n",
    "players_teams_info_df = pd.merge(players_teams_info_df, df_awards_players, on=['playerID', 'year'], how='left').fillna(0)\n",
    "players_teams_info_df.info()"
   ]
  },
  {
   "cell_type": "markdown",
   "metadata": {},
   "source": [
    "For each team and year agregate the statistics of the players in the team and join it to the Teams dataset."
   ]
  },
  {
   "cell_type": "code",
   "execution_count": 78,
   "metadata": {},
   "outputs": [],
   "source": [
    "agg_players_df = players_teams_info_df.groupby([\"year\", \"tmID\"]).agg({\n",
    "    \"GP\": \"mean\",\n",
    "    \"GS\": \"mean\",\n",
    "    \"minutes\": \"mean\",\n",
    "    \"points\": \"mean\",\n",
    "    \"oRebounds\": \"mean\",\n",
    "    \"dRebounds\": \"mean\",\n",
    "    \"rebounds\": \"mean\",\n",
    "    \"assists\": \"mean\",\n",
    "    \"steals\": \"mean\",\n",
    "    \"blocks\": \"mean\",\n",
    "    \"turnovers\": \"mean\",\n",
    "    \"PF\": \"mean\",\n",
    "    \"fgAttempted\": \"mean\",\n",
    "    \"fgMade\": \"mean\",\n",
    "    \"ftAttempted\": \"mean\",\n",
    "    \"ftMade\": \"mean\",\n",
    "    \"threeAttempted\": \"mean\",\n",
    "    \"threeMade\": \"mean\",\n",
    "    \"dq\": \"mean\",\n",
    "    \"PostGP\": \"mean\",\n",
    "    \"PostGS\": \"mean\",\n",
    "    \"PostMinutes\": \"mean\",\n",
    "    \"PostPoints\": \"mean\",\n",
    "    \"PostoRebounds\": \"mean\",\n",
    "    \"PostdRebounds\": \"mean\",\n",
    "    \"PostRebounds\": \"mean\",\n",
    "    \"PostAssists\": \"mean\",\n",
    "    \"PostSteals\": \"mean\",\n",
    "    \"PostBlocks\": \"mean\",\n",
    "    \"PostTurnovers\": \"mean\",\n",
    "    \"PostPF\": \"mean\",\n",
    "    \"PostfgAttempted\": \"mean\",\n",
    "    \"PostfgMade\": \"mean\",\n",
    "    \"PostftAttempted\": \"mean\",\n",
    "    \"PostftMade\": \"mean\",\n",
    "    \"PostthreeAttempted\": \"mean\",\n",
    "    \"PostthreeMade\": \"mean\",\n",
    "    \"PostDQ\": \"mean\",\n",
    "    \"height\": \"mean\",\n",
    "    \"weight\": \"mean\",\n",
    "    \"award_count\": \"mean\",\n",
    "\n",
    "    # Add more columns you want to aggregate here\n",
    "}).reset_index()\n",
    "\n",
    "df_teams = pd.merge(df_teams, agg_players_df, on=['year', 'tmID'], how='left').fillna(0)\n",
    "#agg_players_df.head()"
   ]
  },
  {
   "cell_type": "code",
   "execution_count": 79,
   "metadata": {},
   "outputs": [
    {
     "name": "stdout",
     "output_type": "stream",
     "text": [
      "<class 'pandas.core.frame.DataFrame'>\n",
      "RangeIndex: 142 entries, 0 to 141\n",
      "Data columns (total 58 columns):\n",
      " #   Column                   Non-Null Count  Dtype  \n",
      "---  ------                   --------------  -----  \n",
      " 0   year                     142 non-null    int64  \n",
      " 1   tmID                     142 non-null    object \n",
      " 2   rank                     142 non-null    float64\n",
      " 3   playoff                  142 non-null    int64  \n",
      " 4   homeW                    142 non-null    float64\n",
      " 5   homeL                    142 non-null    float64\n",
      " 6   awayW                    142 non-null    float64\n",
      " 7   awayL                    142 non-null    float64\n",
      " 8   confW                    142 non-null    float64\n",
      " 9   confL                    142 non-null    float64\n",
      " 10  min                      142 non-null    float64\n",
      " 11  attend                   142 non-null    float64\n",
      " 12  num_playoff_appearances  142 non-null    float64\n",
      " 13  mean_won                 142 non-null    float64\n",
      " 14  mean_lost                142 non-null    float64\n",
      " 15  confID_EA                142 non-null    float64\n",
      " 16  confID_WE                142 non-null    float64\n",
      " 17  GP                       142 non-null    float64\n",
      " 18  GS                       142 non-null    float64\n",
      " 19  minutes                  142 non-null    float64\n",
      " 20  points                   142 non-null    float64\n",
      " 21  oRebounds                142 non-null    float64\n",
      " 22  dRebounds                142 non-null    float64\n",
      " 23  rebounds                 142 non-null    float64\n",
      " 24  assists                  142 non-null    float64\n",
      " 25  steals                   142 non-null    float64\n",
      " 26  blocks                   142 non-null    float64\n",
      " 27  turnovers                142 non-null    float64\n",
      " 28  PF                       142 non-null    float64\n",
      " 29  fgAttempted              142 non-null    float64\n",
      " 30  fgMade                   142 non-null    float64\n",
      " 31  ftAttempted              142 non-null    float64\n",
      " 32  ftMade                   142 non-null    float64\n",
      " 33  threeAttempted           142 non-null    float64\n",
      " 34  threeMade                142 non-null    float64\n",
      " 35  dq                       142 non-null    float64\n",
      " 36  PostGP                   142 non-null    float64\n",
      " 37  PostGS                   142 non-null    float64\n",
      " 38  PostMinutes              142 non-null    float64\n",
      " 39  PostPoints               142 non-null    float64\n",
      " 40  PostoRebounds            142 non-null    float64\n",
      " 41  PostdRebounds            142 non-null    float64\n",
      " 42  PostRebounds             142 non-null    float64\n",
      " 43  PostAssists              142 non-null    float64\n",
      " 44  PostSteals               142 non-null    float64\n",
      " 45  PostBlocks               142 non-null    float64\n",
      " 46  PostTurnovers            142 non-null    float64\n",
      " 47  PostPF                   142 non-null    float64\n",
      " 48  PostfgAttempted          142 non-null    float64\n",
      " 49  PostfgMade               142 non-null    float64\n",
      " 50  PostftAttempted          142 non-null    float64\n",
      " 51  PostftMade               142 non-null    float64\n",
      " 52  PostthreeAttempted       142 non-null    float64\n",
      " 53  PostthreeMade            142 non-null    float64\n",
      " 54  PostDQ                   142 non-null    float64\n",
      " 55  height                   142 non-null    float64\n",
      " 56  weight                   142 non-null    float64\n",
      " 57  award_count              142 non-null    float64\n",
      "dtypes: float64(55), int64(2), object(1)\n",
      "memory usage: 64.5+ KB\n"
     ]
    }
   ],
   "source": [
    "df_teams.info()"
   ]
  },
  {
   "cell_type": "markdown",
   "metadata": {},
   "source": [
    "Merge team information with coach information"
   ]
  },
  {
   "cell_type": "code",
   "execution_count": 80,
   "metadata": {},
   "outputs": [
    {
     "name": "stdout",
     "output_type": "stream",
     "text": [
      "<class 'pandas.core.frame.DataFrame'>\n",
      "RangeIndex: 162 entries, 0 to 161\n",
      "Data columns (total 10 columns):\n",
      " #   Column       Non-Null Count  Dtype  \n",
      "---  ------       --------------  -----  \n",
      " 0   coachID      162 non-null    object \n",
      " 1   year         162 non-null    int64  \n",
      " 2   tmID         162 non-null    object \n",
      " 3   stint        162 non-null    int64  \n",
      " 4   won          162 non-null    float64\n",
      " 5   lost         162 non-null    float64\n",
      " 6   post_wins    162 non-null    float64\n",
      " 7   post_losses  162 non-null    float64\n",
      " 8   playerID     162 non-null    object \n",
      " 9   award_count  162 non-null    float64\n",
      "dtypes: float64(5), int64(2), object(3)\n",
      "memory usage: 12.8+ KB\n"
     ]
    }
   ],
   "source": [
    "df_coaches_with_awards = pd.merge(df_coaches, df_awards_players, left_on=['coachID', 'year'], right_on=['playerID', 'year'], how='left').fillna(0)\n",
    "df_coaches_with_awards.info()"
   ]
  },
  {
   "cell_type": "code",
   "execution_count": 81,
   "metadata": {},
   "outputs": [
    {
     "name": "stdout",
     "output_type": "stream",
     "text": [
      "<class 'pandas.core.frame.DataFrame'>\n",
      "RangeIndex: 142 entries, 0 to 141\n",
      "Data columns (total 63 columns):\n",
      " #   Column                   Non-Null Count  Dtype  \n",
      "---  ------                   --------------  -----  \n",
      " 0   year                     142 non-null    int64  \n",
      " 1   tmID                     142 non-null    object \n",
      " 2   rank                     142 non-null    float64\n",
      " 3   playoff                  142 non-null    int64  \n",
      " 4   homeW                    142 non-null    float64\n",
      " 5   homeL                    142 non-null    float64\n",
      " 6   awayW                    142 non-null    float64\n",
      " 7   awayL                    142 non-null    float64\n",
      " 8   confW                    142 non-null    float64\n",
      " 9   confL                    142 non-null    float64\n",
      " 10  min                      142 non-null    float64\n",
      " 11  attend                   142 non-null    float64\n",
      " 12  num_playoff_appearances  142 non-null    float64\n",
      " 13  mean_won                 142 non-null    float64\n",
      " 14  mean_lost                142 non-null    float64\n",
      " 15  confID_EA                142 non-null    float64\n",
      " 16  confID_WE                142 non-null    float64\n",
      " 17  GP                       142 non-null    float64\n",
      " 18  GS                       142 non-null    float64\n",
      " 19  minutes                  142 non-null    float64\n",
      " 20  points                   142 non-null    float64\n",
      " 21  oRebounds                142 non-null    float64\n",
      " 22  dRebounds                142 non-null    float64\n",
      " 23  rebounds                 142 non-null    float64\n",
      " 24  assists                  142 non-null    float64\n",
      " 25  steals                   142 non-null    float64\n",
      " 26  blocks                   142 non-null    float64\n",
      " 27  turnovers                142 non-null    float64\n",
      " 28  PF                       142 non-null    float64\n",
      " 29  fgAttempted              142 non-null    float64\n",
      " 30  fgMade                   142 non-null    float64\n",
      " 31  ftAttempted              142 non-null    float64\n",
      " 32  ftMade                   142 non-null    float64\n",
      " 33  threeAttempted           142 non-null    float64\n",
      " 34  threeMade                142 non-null    float64\n",
      " 35  dq                       142 non-null    float64\n",
      " 36  PostGP                   142 non-null    float64\n",
      " 37  PostGS                   142 non-null    float64\n",
      " 38  PostMinutes              142 non-null    float64\n",
      " 39  PostPoints               142 non-null    float64\n",
      " 40  PostoRebounds            142 non-null    float64\n",
      " 41  PostdRebounds            142 non-null    float64\n",
      " 42  PostRebounds             142 non-null    float64\n",
      " 43  PostAssists              142 non-null    float64\n",
      " 44  PostSteals               142 non-null    float64\n",
      " 45  PostBlocks               142 non-null    float64\n",
      " 46  PostTurnovers            142 non-null    float64\n",
      " 47  PostPF                   142 non-null    float64\n",
      " 48  PostfgAttempted          142 non-null    float64\n",
      " 49  PostfgMade               142 non-null    float64\n",
      " 50  PostftAttempted          142 non-null    float64\n",
      " 51  PostftMade               142 non-null    float64\n",
      " 52  PostthreeAttempted       142 non-null    float64\n",
      " 53  PostthreeMade            142 non-null    float64\n",
      " 54  PostDQ                   142 non-null    float64\n",
      " 55  height                   142 non-null    float64\n",
      " 56  weight                   142 non-null    float64\n",
      " 57  award_count_x            142 non-null    float64\n",
      " 58  won                      142 non-null    float64\n",
      " 59  lost                     142 non-null    float64\n",
      " 60  post_wins                142 non-null    float64\n",
      " 61  post_losses              142 non-null    float64\n",
      " 62  award_count_y            142 non-null    float64\n",
      "dtypes: float64(60), int64(2), object(1)\n",
      "memory usage: 70.0+ KB\n"
     ]
    }
   ],
   "source": [
    "agg_coaches_df = df_coaches_with_awards.groupby([\"year\", \"tmID\"]).agg({\n",
    "    \"won\": \"mean\",\n",
    "    \"lost\": \"mean\",\n",
    "    \"post_wins\": \"mean\",\n",
    "    \"post_losses\": \"mean\",\n",
    "    \"award_count\": \"mean\",\n",
    "}).reset_index()\n",
    "\n",
    "df_teams = pd.merge(df_teams, agg_coaches_df, on=['year', 'tmID'], how='left')\n",
    "df_teams.info()"
   ]
  },
  {
   "cell_type": "markdown",
   "metadata": {},
   "source": [
    "Merges the teams with teams post and added the value 0 to the teams that did not have any wins or losses"
   ]
  },
  {
   "cell_type": "code",
   "execution_count": 82,
   "metadata": {},
   "outputs": [
    {
     "name": "stdout",
     "output_type": "stream",
     "text": [
      "<class 'pandas.core.frame.DataFrame'>\n",
      "RangeIndex: 142 entries, 0 to 141\n",
      "Data columns (total 63 columns):\n",
      " #   Column                   Non-Null Count  Dtype  \n",
      "---  ------                   --------------  -----  \n",
      " 0   year                     142 non-null    int64  \n",
      " 1   tmID                     142 non-null    object \n",
      " 2   rank                     142 non-null    float64\n",
      " 3   playoff                  142 non-null    int64  \n",
      " 4   homeW                    142 non-null    float64\n",
      " 5   homeL                    142 non-null    float64\n",
      " 6   awayW                    142 non-null    float64\n",
      " 7   awayL                    142 non-null    float64\n",
      " 8   confW                    142 non-null    float64\n",
      " 9   confL                    142 non-null    float64\n",
      " 10  min                      142 non-null    float64\n",
      " 11  attend                   142 non-null    float64\n",
      " 12  num_playoff_appearances  142 non-null    float64\n",
      " 13  mean_won                 142 non-null    float64\n",
      " 14  mean_lost                142 non-null    float64\n",
      " 15  confID_EA                142 non-null    float64\n",
      " 16  confID_WE                142 non-null    float64\n",
      " 17  GP                       142 non-null    float64\n",
      " 18  GS                       142 non-null    float64\n",
      " 19  minutes                  142 non-null    float64\n",
      " 20  points                   142 non-null    float64\n",
      " 21  oRebounds                142 non-null    float64\n",
      " 22  dRebounds                142 non-null    float64\n",
      " 23  rebounds                 142 non-null    float64\n",
      " 24  assists                  142 non-null    float64\n",
      " 25  steals                   142 non-null    float64\n",
      " 26  blocks                   142 non-null    float64\n",
      " 27  turnovers                142 non-null    float64\n",
      " 28  PF                       142 non-null    float64\n",
      " 29  fgAttempted              142 non-null    float64\n",
      " 30  fgMade                   142 non-null    float64\n",
      " 31  ftAttempted              142 non-null    float64\n",
      " 32  ftMade                   142 non-null    float64\n",
      " 33  threeAttempted           142 non-null    float64\n",
      " 34  threeMade                142 non-null    float64\n",
      " 35  dq                       142 non-null    float64\n",
      " 36  PostGP                   142 non-null    float64\n",
      " 37  PostGS                   142 non-null    float64\n",
      " 38  PostMinutes              142 non-null    float64\n",
      " 39  PostPoints               142 non-null    float64\n",
      " 40  PostoRebounds            142 non-null    float64\n",
      " 41  PostdRebounds            142 non-null    float64\n",
      " 42  PostRebounds             142 non-null    float64\n",
      " 43  PostAssists              142 non-null    float64\n",
      " 44  PostSteals               142 non-null    float64\n",
      " 45  PostBlocks               142 non-null    float64\n",
      " 46  PostTurnovers            142 non-null    float64\n",
      " 47  PostPF                   142 non-null    float64\n",
      " 48  PostfgAttempted          142 non-null    float64\n",
      " 49  PostfgMade               142 non-null    float64\n",
      " 50  PostftAttempted          142 non-null    float64\n",
      " 51  PostftMade               142 non-null    float64\n",
      " 52  PostthreeAttempted       142 non-null    float64\n",
      " 53  PostthreeMade            142 non-null    float64\n",
      " 54  PostDQ                   142 non-null    float64\n",
      " 55  height                   142 non-null    float64\n",
      " 56  weight                   142 non-null    float64\n",
      " 57  award_count_x            142 non-null    float64\n",
      " 58  won                      142 non-null    float64\n",
      " 59  lost                     142 non-null    float64\n",
      " 60  post_wins                142 non-null    float64\n",
      " 61  post_losses              142 non-null    float64\n",
      " 62  award_count_y            142 non-null    float64\n",
      "dtypes: float64(60), int64(2), object(1)\n",
      "memory usage: 70.0+ KB\n"
     ]
    }
   ],
   "source": [
    "#df_teams = pd.merge(df_teams, df_teams_post, on=['year', 'tmID'], how='left').fillna(0)\n",
    "df_teams.info()"
   ]
  },
  {
   "cell_type": "code",
   "execution_count": 83,
   "metadata": {},
   "outputs": [],
   "source": [
    "df_teams.to_csv('data_merged.csv', index=False)"
   ]
  }
 ],
 "metadata": {
  "kernelspec": {
   "display_name": "Python 3",
   "language": "python",
   "name": "python3"
  },
  "language_info": {
   "codemirror_mode": {
    "name": "ipython",
    "version": 3
   },
   "file_extension": ".py",
   "mimetype": "text/x-python",
   "name": "python",
   "nbconvert_exporter": "python",
   "pygments_lexer": "ipython3",
   "version": "3.10.11"
  },
  "orig_nbformat": 4
 },
 "nbformat": 4,
 "nbformat_minor": 2
}
