{
 "cells": [
  {
   "cell_type": "markdown",
   "metadata": {},
   "source": [
    "## Imports"
   ]
  },
  {
   "cell_type": "code",
   "execution_count": 49,
   "metadata": {},
   "outputs": [],
   "source": [
    "import pandas as pd\n",
    "import numpy as np\n",
    "from sklearn.preprocessing import OneHotEncoder\n",
    "from sklearn.linear_model import LogisticRegression\n",
    "from sklearn.naive_bayes import GaussianNB\n",
    "import pandas as pd\n",
    "from sklearn.preprocessing import OneHotEncoder\n",
    "from sklearn.neighbors import KNeighborsClassifier\n",
    "from sklearn.naive_bayes import GaussianNB\n",
    "from sklearn.linear_model import LogisticRegression\n",
    "from sklearn.neural_network import MLPClassifier\n",
    "from sklearn.linear_model import LogisticRegression\n",
    "from sklearn.naive_bayes import GaussianNB\n",
    "from sklearn.preprocessing import MinMaxScaler\n",
    "from sklearn.ensemble import VotingClassifier\n",
    "from my_utils import select_k_best"
   ]
  },
  {
   "cell_type": "code",
   "execution_count": 50,
   "metadata": {},
   "outputs": [],
   "source": [
    "df_awards_players = pd.read_csv('data/awards_players_processed.csv')\n",
    "df_coaches_before = pd.read_csv('data/coaches.csv')\n",
    "df_players_teams_before = pd.read_csv('data/players_teams.csv')\n",
    "df_players = pd.read_csv('data/players_processed.csv')\n",
    "df_series_post = pd.read_csv('data/series_post_processed.csv')\n",
    "df_teams_before = pd.read_csv('data/teams.csv')\n",
    "df_teams_post = pd.read_csv('data/teams_post_processed.csv')\n",
    "df_teams_11 = pd.read_csv('data/11year/teams.csv')\n",
    "df_players_teams_11 = pd.read_csv('data/11year/players_teams.csv')\n",
    "df_coaches_11 = pd.read_csv('data/11year/coaches.csv')"
   ]
  },
  {
   "cell_type": "markdown",
   "metadata": {},
   "source": [
    "## Clean up 11 year data"
   ]
  },
  {
   "cell_type": "code",
   "execution_count": 51,
   "metadata": {},
   "outputs": [],
   "source": [
    "\n",
    "def drop_columns_with_all_nan(df):\n",
    "    # Step 1: Check for columns with all NaN values\n",
    "    columns_to_drop = []\n",
    "    for col in df.columns:\n",
    "        unique_values = df[col].unique()\n",
    "        if len(unique_values) == 1 or all(pd.isna(x) for x in unique_values):\n",
    "            columns_to_drop.append(col)\n",
    "\n",
    "    # Step 2: Drop identified columns\n",
    "    df.drop(columns=columns_to_drop, inplace=True)\n",
    "\n",
    "    # Step 3: Print the identified columns to be dropped\n",
    "    print(columns_to_drop)\n",
    "\n",
    "\n"
   ]
  },
  {
   "cell_type": "code",
   "execution_count": 52,
   "metadata": {},
   "outputs": [
    {
     "name": "stdout",
     "output_type": "stream",
     "text": [
      "['lgID', 'divID', 'seeded', 'tmORB', 'tmDRB', 'tmTRB', 'opptmORB', 'opptmDRB', 'opptmTRB']\n",
      "0\n",
      "['lgID']\n",
      "0\n",
      "['lgID']\n",
      "0\n",
      "20\n"
     ]
    }
   ],
   "source": [
    "drop_columns_with_all_nan(df_teams_before)\n",
    "print(df_teams_before.duplicated().sum())\n",
    "df_teams_before.drop_duplicates(inplace=True)\n",
    "\n",
    "\n",
    "drop_columns_with_all_nan(df_players_teams_before)\n",
    "print(df_players_teams_before.duplicated().sum())\n",
    "df_players_teams_before.drop_duplicates(inplace=True)\n",
    "\n",
    "drop_columns_with_all_nan(df_coaches_before)\n",
    "print(df_coaches_before.duplicated().sum())\n",
    "print(df_coaches_before.duplicated(subset=['tmID', 'year']).sum())\n",
    "df_coaches_before.drop_duplicates(inplace=True)\n",
    "\n",
    "\n"
   ]
  },
  {
   "cell_type": "code",
   "execution_count": 53,
   "metadata": {},
   "outputs": [],
   "source": [
    "df_teams_11.drop(['lgID','franchID','name','arena'], axis=1, inplace=True)\n",
    "df_players_teams_11.drop(['stint','lgID'], axis=1, inplace=True)\n",
    "df_coaches_11.drop(['stint','lgID'], axis=1, inplace=True)"
   ]
  },
  {
   "cell_type": "markdown",
   "metadata": {},
   "source": [
    "## Shilf data from the teams, palyers and coaches, with the 11 year"
   ]
  },
  {
   "cell_type": "markdown",
   "metadata": {},
   "source": [
    "Join the teams data with the 11 year team data. Then shift the data calculating the average of the two previous years."
   ]
  },
  {
   "cell_type": "code",
   "execution_count": 54,
   "metadata": {},
   "outputs": [],
   "source": [
    "# concat df_teams_11 and df_teams with the common columns and the rest of the columns 0\n",
    "df_teams_before = pd.concat([df_teams_before, df_teams_11], axis=0, ignore_index=True)\n",
    "df_teams_before.fillna(0, inplace=True)"
   ]
  },
  {
   "cell_type": "code",
   "execution_count": 55,
   "metadata": {},
   "outputs": [],
   "source": [
    "df_teams_before['playoff'] = df_teams_before['playoff'].map({'N': 0, 'Y': 1})\n",
    "years = df_teams_before['year'].unique()\n",
    "teams = df_teams_before['tmID'].unique()\n",
    "df_teams_before.sort_values(by=['year', 'tmID'], ascending=[True, True], inplace=True)\n",
    "\n",
    "years_back = 2\n",
    "\n",
    "df_teams = df_teams_before.copy()\n",
    "\n",
    "average_collumns = [\"homeW\",\"homeL\",\"awayW\",\"awayL\",\"confW\",\"confL\",\"min\",\"attend\"]\n",
    "\n",
    "for year in years:\n",
    "    for team in teams:\n",
    "        df_teams.loc[(df_teams['year'] == year) & (df_teams['tmID'] == team), 'num_playoff_appearances'] = df_teams_before[(df_teams_before['year'] >= (year - years_back)) & (df_teams_before['year'] < year) & (df_teams_before['tmID'] == team)]['playoff'].sum()\n",
    "        df_teams.loc[(df_teams['year'] == year) & (df_teams['tmID'] == team), 'total_first_round_won'] = (df_teams_before[(df_teams_before['year'] >= (year - years_back)) &(df_teams_before['year'] < year) & (df_teams_before['tmID'] == team)]['firstRound'] == 'W').sum()\n",
    "        df_teams.loc[(df_teams['year'] == year) & (df_teams['tmID'] == team), 'total_first_round_lost'] = (df_teams_before[(df_teams_before['year'] >= (year - years_back)) &(df_teams_before['year'] < year) & (df_teams_before['tmID'] == team)]['firstRound'] == 'L').sum()\n",
    "        df_teams.loc[(df_teams['year'] == year) & (df_teams['tmID'] == team), 'total_semis_won'] = (df_teams_before[(df_teams_before['year'] >= (year - years_back)) &(df_teams_before['year'] < year) & (df_teams_before['tmID'] == team)]['semis'] == 'W').sum()\n",
    "        df_teams.loc[(df_teams['year'] == year) & (df_teams['tmID'] == team), 'total_semis_lost'] = (df_teams_before[(df_teams_before['year'] >= (year - years_back)) &(df_teams_before['year'] < year) & (df_teams_before['tmID'] == team)]['semis'] == 'L').sum()\n",
    "        df_teams.loc[(df_teams['year'] == year) & (df_teams['tmID'] == team), 'total_finals_won'] = (df_teams_before[(df_teams_before['year'] >= (year - years_back)) &(df_teams_before['year'] < year) & (df_teams_before['tmID'] == team)]['finals'] == 'W').sum()\n",
    "        df_teams.loc[(df_teams['year'] == year) & (df_teams['tmID'] == team), 'total_finals_lost'] = (df_teams_before[(df_teams_before['year'] >= (year - years_back)) &(df_teams_before['year'] < year) & (df_teams_before['tmID'] == team)]['finals'] == 'L').sum()\n",
    "        df_teams.loc[(df_teams['year'] == year) & (df_teams['tmID'] == team), 'mean_won'] = (df_teams_before[(df_teams_before['year'] >= (year - years_back)) &(df_teams_before['year'] < year) & (df_teams_before['tmID'] == team)]['won']).mean()\n",
    "        df_teams.loc[(df_teams['year'] == year) & (df_teams['tmID'] == team), 'mean_lost'] = (df_teams_before[(df_teams_before['year'] >= (year - years_back)) &(df_teams_before['year'] < year) & (df_teams_before['tmID'] == team)]['lost']).mean()\n",
    "        df_teams.loc[(df_teams['year'] == year) & (df_teams['tmID'] == team), 'rank'] = (df_teams_before[(df_teams_before['year'] >= (year - years_back)) &(df_teams_before['year'] < year) & (df_teams_before['tmID'] == team)]['rank']).mean()\n",
    "        for column in average_collumns:\n",
    "            df_teams.loc[(df_teams['year'] == year) & (df_teams['tmID'] == team), column] = df_teams_before[(df_teams_before['year'] >= (year - years_back)) &(df_teams_before['year'] < year) & (df_teams_before['tmID'] == team)][column].mean()\n",
    " \n",
    "         \n",
    "df_teams.drop(columns=['firstRound', 'semis', 'finals',\"won\",\"lost\", 'franchID', 'name', 'arena', \"o_fgm\",\"o_fga\",\"o_ftm\",\"o_fta\",\"o_3pm\",\"o_3pa\",\"o_oreb\",\"o_dreb\",\"o_reb\",\"o_asts\",\"o_pf\",\"o_stl\",\"o_to\",\"o_blk\",\"o_pts\",\"d_fgm\",\"d_fga\",\"d_ftm\",\"d_fta\",\"d_3pm\",\"d_3pa\",\"d_oreb\",\"d_dreb\",\"d_reb\",\"d_asts\",\"d_pf\",\"d_stl\",\"d_to\",\"d_blk\",\"d_pts\",\"GP\"], inplace=True)\n",
    "df_teams.fillna(0, inplace=True)   \n",
    "\n",
    "encoder = OneHotEncoder()\n",
    "categorical_features = ['confID']\n",
    "for feature in categorical_features:\n",
    "    onehotarray = encoder.fit_transform(df_teams[[feature]]).toarray()\n",
    "    items = [f'{feature}_{item}' for item in encoder.categories_[0]]\n",
    "    df_teams[items] = onehotarray\n",
    "df_teams=df_teams.drop(categorical_features, axis=1)"
   ]
  },
  {
   "cell_type": "markdown",
   "metadata": {},
   "source": [
    "Join the the players teams data with the 11 year players data. Then shift the data calculating the average of the two previous years."
   ]
  },
  {
   "cell_type": "code",
   "execution_count": 56,
   "metadata": {},
   "outputs": [],
   "source": [
    "df_players_teams_before = pd.concat([df_players_teams_before, df_players_teams_11], axis=0, ignore_index=True)\n",
    "df_players_teams_before.fillna(0, inplace=True)"
   ]
  },
  {
   "cell_type": "markdown",
   "metadata": {},
   "source": [
    "In basketball, one can calculate the total points scored using the following formula:\n",
    "Total Points = Free Throws Made (ftMade) + 2 * (Field Goals Made (fgMade) - Three-Pointers Made (threeMade)) + 3 * Three-Pointers Made (threeMade).\n",
    "However, it's important to note that the given dataset already includes a dedicated column for total points. Consequently, the columns for Free Throws Made (ftMade), Field Goals Made (fgMade), and Three-Pointers Made (threeMade)  end up giving redundant information, and therefore, are not useful and can be deleted from the dataset."
   ]
  },
  {
   "cell_type": "code",
   "execution_count": 57,
   "metadata": {},
   "outputs": [],
   "source": [
    "\n",
    "df_players_teams_before['Postperformance'] = (df_players_teams_before['PostPoints'] + df_players_teams_before['PostRebounds'] +\n",
    "                           df_players_teams_before['PostAssists'] + df_players_teams_before['PostSteals'] +\n",
    "                           df_players_teams_before['PostBlocks']) - (df_players_teams_before['PostTurnovers'] +\n",
    "                           0.4*df_players_teams_before['PostPF'])   \n",
    "df_players_teams_before['performance'] = (df_players_teams_before['points'] + df_players_teams_before['rebounds'] +\n",
    "                           df_players_teams_before['assists'] + df_players_teams_before['steals'] +\n",
    "                           df_players_teams_before['blocks']) - (df_players_teams_before['turnovers'] +\n",
    "                           0.4*df_players_teams_before['PF'])   \n",
    "points_made = 1 * df_players_teams_before['ftMade'] + 2 * (df_players_teams_before['fgMade'] - df_players_teams_before['threeMade']) + 3 * df_players_teams_before['threeMade']\n",
    "points_attempted = 1 * df_players_teams_before['ftAttempted'] + 2 * (df_players_teams_before['fgAttempted'] - df_players_teams_before['threeAttempted']) + 3 * df_players_teams_before['threeAttempted']\n",
    "df_players_teams_before['points_precision'] = points_attempted - points_made\n",
    "\n",
    "post_points_made = 1 * df_players_teams_before['PostftMade'] + 2 * (df_players_teams_before['PostfgMade'] - df_players_teams_before['PostthreeMade']) + 3 * df_players_teams_before['PostthreeMade']\n",
    "post_points_attempted = 1 * df_players_teams_before['PostftAttempted'] + 2 * (df_players_teams_before['PostfgAttempted'] - df_players_teams_before['PostthreeAttempted']) + 3 * df_players_teams_before['PostthreeAttempted']\n",
    "df_players_teams_before['Postpoints_precision'] = post_points_attempted - post_points_made\n",
    "\n",
    "df_players_teams_before.drop(columns=['points', 'rebounds', 'assists', 'steals', 'blocks', 'turnovers', 'PF', 'PostPoints', 'PostRebounds', 'PostAssists', 'PostSteals', 'PostBlocks', 'PostTurnovers', 'PostPF'], inplace=True)\n",
    "df_players_teams_before.drop(columns=['ftMade', 'fgMade', 'threeMade', 'fgAttempted', 'ftAttempted', 'threeAttempted', 'PostftMade', 'PostfgMade', 'PostthreeMade', 'PostfgAttempted', 'PostftAttempted', 'PostthreeAttempted'], inplace=True)"
   ]
  },
  {
   "cell_type": "code",
   "execution_count": 58,
   "metadata": {},
   "outputs": [
    {
     "name": "stdout",
     "output_type": "stream",
     "text": [
      "<class 'pandas.core.frame.DataFrame'>\n",
      "RangeIndex: 2024 entries, 0 to 2023\n",
      "Data columns (total 20 columns):\n",
      " #   Column                Non-Null Count  Dtype  \n",
      "---  ------                --------------  -----  \n",
      " 0   playerID              2024 non-null   object \n",
      " 1   year                  2024 non-null   int64  \n",
      " 2   stint                 2024 non-null   float64\n",
      " 3   tmID                  2024 non-null   object \n",
      " 4   GP                    2024 non-null   float64\n",
      " 5   GS                    2024 non-null   float64\n",
      " 6   minutes               2024 non-null   float64\n",
      " 7   oRebounds             2024 non-null   float64\n",
      " 8   dRebounds             2024 non-null   float64\n",
      " 9   dq                    2024 non-null   float64\n",
      " 10  PostGP                2024 non-null   float64\n",
      " 11  PostGS                2024 non-null   float64\n",
      " 12  PostMinutes           2024 non-null   float64\n",
      " 13  PostoRebounds         2024 non-null   float64\n",
      " 14  PostdRebounds         2024 non-null   float64\n",
      " 15  PostDQ                2024 non-null   float64\n",
      " 16  Postperformance       2024 non-null   float64\n",
      " 17  performance           2024 non-null   float64\n",
      " 18  points_precision      2024 non-null   float64\n",
      " 19  Postpoints_precision  2024 non-null   float64\n",
      "dtypes: float64(17), int64(1), object(2)\n",
      "memory usage: 316.4+ KB\n",
      "<class 'pandas.core.frame.DataFrame'>\n",
      "Index: 1392 entries, 1 to 2023\n",
      "Data columns (total 19 columns):\n",
      " #   Column                Non-Null Count  Dtype  \n",
      "---  ------                --------------  -----  \n",
      " 0   playerID              1392 non-null   object \n",
      " 1   year                  1392 non-null   int64  \n",
      " 2   tmID                  1392 non-null   object \n",
      " 3   GP                    1392 non-null   float64\n",
      " 4   GS                    1392 non-null   float64\n",
      " 5   minutes               1392 non-null   float64\n",
      " 6   oRebounds             1392 non-null   float64\n",
      " 7   dRebounds             1392 non-null   float64\n",
      " 8   dq                    1392 non-null   float64\n",
      " 9   PostGP                1392 non-null   float64\n",
      " 10  PostGS                1392 non-null   float64\n",
      " 11  PostMinutes           1392 non-null   float64\n",
      " 12  PostoRebounds         1392 non-null   float64\n",
      " 13  PostdRebounds         1392 non-null   float64\n",
      " 14  PostDQ                1392 non-null   float64\n",
      " 15  Postperformance       1392 non-null   float64\n",
      " 16  performance           1392 non-null   float64\n",
      " 17  points_precision      1392 non-null   float64\n",
      " 18  Postpoints_precision  1392 non-null   float64\n",
      "dtypes: float64(16), int64(1), object(2)\n",
      "memory usage: 217.5+ KB\n",
      "None None\n"
     ]
    }
   ],
   "source": [
    "df_players_teams = df_players_teams_before.copy()\n",
    "\n",
    "average_collumns = [\"GP\",\"GS\",\"minutes\",\"oRebounds\",\"dRebounds\",\"dq\",\"PostGP\",\"PostGS\",\"PostMinutes\",\"PostoRebounds\",\"PostdRebounds\",\"PostDQ\", 'performance','Postperformance', 'points_precision', 'Postpoints_precision' ]\n",
    "for year in years:\n",
    "    for team in teams:\n",
    "        players = df_players_teams_before[(df_players_teams_before['year'] == year) & (df_players_teams_before['tmID'] == team)]['playerID'].unique()\n",
    "        for player in players:\n",
    "            for column in average_collumns:\n",
    "                df_players_teams.loc[(df_players_teams['year'] == year) & (df_players_teams['tmID'] == team) & (df_players_teams['playerID'] == player), column] = df_players_teams_before[(df_players_teams['year'] >= (year - years_back)) &(df_players_teams['year'] < year)  & (df_players_teams['playerID'] == player)][column].mean()\n",
    "\n",
    "df_players_teams.dropna(inplace=True)\n",
    "df_players_teams.drop(columns=['stint'], inplace=True)\n",
    "\n",
    "print(df_players_teams_before.info(), df_players_teams.info())"
   ]
  },
  {
   "cell_type": "markdown",
   "metadata": {},
   "source": [
    "Join the the coaches data with the 11 year coaches data. Then shift the data calculating the average of the two previous years."
   ]
  },
  {
   "cell_type": "code",
   "execution_count": 59,
   "metadata": {},
   "outputs": [],
   "source": [
    "df_coaches_before = pd.concat([df_coaches_before,df_coaches_11], axis=0, ignore_index=True)\n",
    "df_coaches_before.fillna(0, inplace=True)"
   ]
  },
  {
   "cell_type": "code",
   "execution_count": 60,
   "metadata": {},
   "outputs": [],
   "source": [
    "df_coaches = df_coaches_before.copy()\n",
    "\n",
    "average_collumns = [\"won\",\"lost\",\"post_wins\",\"post_losses\"]\n",
    "for year in years:\n",
    "    for team in teams:\n",
    "        coaches= df_coaches_before[(df_coaches_before['year'] == year) & (df_coaches_before['tmID'] == team)]['coachID'].unique()\n",
    "        for coach in coaches:\n",
    "            for column in average_collumns:\n",
    "                df_coaches.loc[(df_coaches['year'] == year) & (df_coaches['tmID'] == team) & (df_coaches['coachID'] == coach), column] = df_coaches_before[(df_coaches_before['year'] >= (year - years_back)) &(df_coaches_before['year'] < year) & (df_coaches_before['coachID'] == coach)][column].mean()         \n",
    "\n",
    "df_coaches.fillna(0, inplace=True)\n"
   ]
  },
  {
   "cell_type": "markdown",
   "metadata": {},
   "source": [
    "## Merge"
   ]
  },
  {
   "cell_type": "markdown",
   "metadata": {},
   "source": [
    "Agregate data from players team, players info and awards"
   ]
  },
  {
   "cell_type": "code",
   "execution_count": 61,
   "metadata": {},
   "outputs": [
    {
     "name": "stdout",
     "output_type": "stream",
     "text": [
      "<class 'pandas.core.frame.DataFrame'>\n",
      "RangeIndex: 1392 entries, 0 to 1391\n",
      "Data columns (total 28 columns):\n",
      " #   Column                Non-Null Count  Dtype  \n",
      "---  ------                --------------  -----  \n",
      " 0   playerID              1392 non-null   object \n",
      " 1   year                  1392 non-null   int64  \n",
      " 2   tmID                  1392 non-null   object \n",
      " 3   GP                    1392 non-null   float64\n",
      " 4   GS                    1392 non-null   float64\n",
      " 5   minutes               1392 non-null   float64\n",
      " 6   oRebounds             1392 non-null   float64\n",
      " 7   dRebounds             1392 non-null   float64\n",
      " 8   dq                    1392 non-null   float64\n",
      " 9   PostGP                1392 non-null   float64\n",
      " 10  PostGS                1392 non-null   float64\n",
      " 11  PostMinutes           1392 non-null   float64\n",
      " 12  PostoRebounds         1392 non-null   float64\n",
      " 13  PostdRebounds         1392 non-null   float64\n",
      " 14  PostDQ                1392 non-null   float64\n",
      " 15  Postperformance       1392 non-null   float64\n",
      " 16  performance           1392 non-null   float64\n",
      " 17  points_precision      1392 non-null   float64\n",
      " 18  Postpoints_precision  1392 non-null   float64\n",
      " 19  bioID                 1392 non-null   object \n",
      " 20  pos                   1392 non-null   object \n",
      " 21  height                1392 non-null   float64\n",
      " 22  weight                1392 non-null   float64\n",
      " 23  college               1392 non-null   object \n",
      " 24  collegeOther          1392 non-null   object \n",
      " 25  birthDate             1392 non-null   object \n",
      " 26  deathDate             1392 non-null   object \n",
      " 27  award_count           1392 non-null   float64\n",
      "dtypes: float64(19), int64(1), object(8)\n",
      "memory usage: 304.6+ KB\n"
     ]
    }
   ],
   "source": [
    "players_teams_info_df = pd.merge(df_players_teams, df_players, left_on='playerID', right_on='bioID', how='left')\n",
    "players_teams_info_df = pd.merge(players_teams_info_df, df_awards_players, on=['playerID', 'year'], how='left').fillna(0)\n",
    "players_teams_info_df.info()"
   ]
  },
  {
   "cell_type": "markdown",
   "metadata": {},
   "source": [
    "For each team and year agregate the statistics of the players in the team and join it to the Teams dataset."
   ]
  },
  {
   "cell_type": "code",
   "execution_count": 62,
   "metadata": {},
   "outputs": [],
   "source": [
    "agg_players_df = players_teams_info_df.groupby([\"year\", \"tmID\"]).agg({\n",
    "    \"GP\": \"mean\",\n",
    "    \"GS\": \"mean\",\n",
    "    \"minutes\": \"mean\",\n",
    "    \"oRebounds\": \"mean\",\n",
    "    \"dRebounds\": \"mean\",\n",
    "    \"dq\": \"mean\",\n",
    "    \"PostGP\": \"mean\",\n",
    "    \"PostGS\": \"mean\",\n",
    "    \"PostMinutes\": \"mean\",\n",
    "    \"PostoRebounds\": \"mean\",\n",
    "    \"PostdRebounds\": \"mean\",\n",
    "    \"performance\": \"mean\",\n",
    "    \"Postperformance\": \"mean\",\n",
    "    'points_precision': 'mean',\n",
    "    'Postpoints_precision': 'mean',\n",
    "    \"PostDQ\": \"mean\",\n",
    "    \"height\": \"mean\",\n",
    "    \"weight\": \"mean\",\n",
    "    \"award_count\": \"mean\",\n",
    "    # Add more columns you want to aggregate here\n",
    "}).reset_index()\n",
    "\n",
    "df_teams = pd.merge(df_teams, agg_players_df, on=['year', 'tmID'], how='left').fillna(0)\n",
    "#agg_players_df.head()"
   ]
  },
  {
   "cell_type": "code",
   "execution_count": 63,
   "metadata": {},
   "outputs": [
    {
     "name": "stdout",
     "output_type": "stream",
     "text": [
      "<class 'pandas.core.frame.DataFrame'>\n",
      "RangeIndex: 154 entries, 0 to 153\n",
      "Data columns (total 42 columns):\n",
      " #   Column                   Non-Null Count  Dtype  \n",
      "---  ------                   --------------  -----  \n",
      " 0   year                     154 non-null    int64  \n",
      " 1   tmID                     154 non-null    object \n",
      " 2   rank                     154 non-null    float64\n",
      " 3   playoff                  154 non-null    float64\n",
      " 4   homeW                    154 non-null    float64\n",
      " 5   homeL                    154 non-null    float64\n",
      " 6   awayW                    154 non-null    float64\n",
      " 7   awayL                    154 non-null    float64\n",
      " 8   confW                    154 non-null    float64\n",
      " 9   confL                    154 non-null    float64\n",
      " 10  min                      154 non-null    float64\n",
      " 11  attend                   154 non-null    float64\n",
      " 12  num_playoff_appearances  154 non-null    float64\n",
      " 13  total_first_round_won    154 non-null    float64\n",
      " 14  total_first_round_lost   154 non-null    float64\n",
      " 15  total_semis_won          154 non-null    float64\n",
      " 16  total_semis_lost         154 non-null    float64\n",
      " 17  total_finals_won         154 non-null    float64\n",
      " 18  total_finals_lost        154 non-null    float64\n",
      " 19  mean_won                 154 non-null    float64\n",
      " 20  mean_lost                154 non-null    float64\n",
      " 21  confID_EA                154 non-null    float64\n",
      " 22  confID_WE                154 non-null    float64\n",
      " 23  GP                       154 non-null    float64\n",
      " 24  GS                       154 non-null    float64\n",
      " 25  minutes                  154 non-null    float64\n",
      " 26  oRebounds                154 non-null    float64\n",
      " 27  dRebounds                154 non-null    float64\n",
      " 28  dq                       154 non-null    float64\n",
      " 29  PostGP                   154 non-null    float64\n",
      " 30  PostGS                   154 non-null    float64\n",
      " 31  PostMinutes              154 non-null    float64\n",
      " 32  PostoRebounds            154 non-null    float64\n",
      " 33  PostdRebounds            154 non-null    float64\n",
      " 34  performance              154 non-null    float64\n",
      " 35  Postperformance          154 non-null    float64\n",
      " 36  points_precision         154 non-null    float64\n",
      " 37  Postpoints_precision     154 non-null    float64\n",
      " 38  PostDQ                   154 non-null    float64\n",
      " 39  height                   154 non-null    float64\n",
      " 40  weight                   154 non-null    float64\n",
      " 41  award_count              154 non-null    float64\n",
      "dtypes: float64(40), int64(1), object(1)\n",
      "memory usage: 50.7+ KB\n"
     ]
    }
   ],
   "source": [
    "df_teams.info()"
   ]
  },
  {
   "cell_type": "markdown",
   "metadata": {},
   "source": [
    "Merge the coaches data with the awards they have won."
   ]
  },
  {
   "cell_type": "code",
   "execution_count": 64,
   "metadata": {},
   "outputs": [
    {
     "name": "stdout",
     "output_type": "stream",
     "text": [
      "<class 'pandas.core.frame.DataFrame'>\n",
      "RangeIndex: 176 entries, 0 to 175\n",
      "Data columns (total 10 columns):\n",
      " #   Column       Non-Null Count  Dtype  \n",
      "---  ------       --------------  -----  \n",
      " 0   coachID      176 non-null    object \n",
      " 1   year         176 non-null    int64  \n",
      " 2   tmID         176 non-null    object \n",
      " 3   stint        176 non-null    float64\n",
      " 4   won          176 non-null    float64\n",
      " 5   lost         176 non-null    float64\n",
      " 6   post_wins    176 non-null    float64\n",
      " 7   post_losses  176 non-null    float64\n",
      " 8   playerID     176 non-null    object \n",
      " 9   award_count  176 non-null    float64\n",
      "dtypes: float64(6), int64(1), object(3)\n",
      "memory usage: 13.9+ KB\n"
     ]
    }
   ],
   "source": [
    "df_coaches_with_awards = pd.merge(df_coaches, df_awards_players, left_on=['coachID', 'year'], right_on=['playerID', 'year'], how='left').fillna(0)\n",
    "df_coaches_with_awards.info()"
   ]
  },
  {
   "cell_type": "markdown",
   "metadata": {},
   "source": [
    "From each team and year, agregate the statistics of the coaches and join it to the Teams dataset."
   ]
  },
  {
   "cell_type": "code",
   "execution_count": 65,
   "metadata": {},
   "outputs": [
    {
     "name": "stdout",
     "output_type": "stream",
     "text": [
      "<class 'pandas.core.frame.DataFrame'>\n",
      "RangeIndex: 154 entries, 0 to 153\n",
      "Data columns (total 47 columns):\n",
      " #   Column                   Non-Null Count  Dtype  \n",
      "---  ------                   --------------  -----  \n",
      " 0   year                     154 non-null    int64  \n",
      " 1   tmID                     154 non-null    object \n",
      " 2   rank                     154 non-null    float64\n",
      " 3   playoff                  154 non-null    float64\n",
      " 4   homeW                    154 non-null    float64\n",
      " 5   homeL                    154 non-null    float64\n",
      " 6   awayW                    154 non-null    float64\n",
      " 7   awayL                    154 non-null    float64\n",
      " 8   confW                    154 non-null    float64\n",
      " 9   confL                    154 non-null    float64\n",
      " 10  min                      154 non-null    float64\n",
      " 11  attend                   154 non-null    float64\n",
      " 12  num_playoff_appearances  154 non-null    float64\n",
      " 13  total_first_round_won    154 non-null    float64\n",
      " 14  total_first_round_lost   154 non-null    float64\n",
      " 15  total_semis_won          154 non-null    float64\n",
      " 16  total_semis_lost         154 non-null    float64\n",
      " 17  total_finals_won         154 non-null    float64\n",
      " 18  total_finals_lost        154 non-null    float64\n",
      " 19  mean_won                 154 non-null    float64\n",
      " 20  mean_lost                154 non-null    float64\n",
      " 21  confID_EA                154 non-null    float64\n",
      " 22  confID_WE                154 non-null    float64\n",
      " 23  GP                       154 non-null    float64\n",
      " 24  GS                       154 non-null    float64\n",
      " 25  minutes                  154 non-null    float64\n",
      " 26  oRebounds                154 non-null    float64\n",
      " 27  dRebounds                154 non-null    float64\n",
      " 28  dq                       154 non-null    float64\n",
      " 29  PostGP                   154 non-null    float64\n",
      " 30  PostGS                   154 non-null    float64\n",
      " 31  PostMinutes              154 non-null    float64\n",
      " 32  PostoRebounds            154 non-null    float64\n",
      " 33  PostdRebounds            154 non-null    float64\n",
      " 34  performance              154 non-null    float64\n",
      " 35  Postperformance          154 non-null    float64\n",
      " 36  points_precision         154 non-null    float64\n",
      " 37  Postpoints_precision     154 non-null    float64\n",
      " 38  PostDQ                   154 non-null    float64\n",
      " 39  height                   154 non-null    float64\n",
      " 40  weight                   154 non-null    float64\n",
      " 41  award_count_x            154 non-null    float64\n",
      " 42  won                      154 non-null    float64\n",
      " 43  lost                     154 non-null    float64\n",
      " 44  post_wins                154 non-null    float64\n",
      " 45  post_losses              154 non-null    float64\n",
      " 46  award_count_y            154 non-null    float64\n",
      "dtypes: float64(45), int64(1), object(1)\n",
      "memory usage: 56.7+ KB\n"
     ]
    }
   ],
   "source": [
    "agg_coaches_df = df_coaches_with_awards.groupby([\"year\", \"tmID\"]).agg({\n",
    "    \"won\": \"mean\",\n",
    "    \"lost\": \"mean\",\n",
    "    \"post_wins\": \"mean\",\n",
    "    \"post_losses\": \"mean\",\n",
    "    \"award_count\": \"mean\",\n",
    "}).reset_index()\n",
    "\n",
    "df_teams = pd.merge(df_teams, agg_coaches_df, on=['year', 'tmID'], how='left')\n",
    "df_teams.info()"
   ]
  },
  {
   "cell_type": "markdown",
   "metadata": {},
   "source": [
    "Merges the teams with teams post and added the value 0 to the teams that did not have any wins or losses"
   ]
  },
  {
   "cell_type": "code",
   "execution_count": 66,
   "metadata": {},
   "outputs": [],
   "source": [
    "df_teams.to_csv('data_merged_11.csv', index=False)"
   ]
  },
  {
   "cell_type": "markdown",
   "metadata": {},
   "source": [
    "## Feature selection"
   ]
  },
  {
   "cell_type": "markdown",
   "metadata": {},
   "source": [
    "### Agregation and manual selection"
   ]
  },
  {
   "cell_type": "markdown",
   "metadata": {},
   "source": [
    "The \"won\" and \"lost\" collumns is the sum of  \"homeW\",\"awayW\", \"homeL\",\"awayL\"\n"
   ]
  },
  {
   "cell_type": "code",
   "execution_count": 67,
   "metadata": {},
   "outputs": [],
   "source": [
    "df_teams.drop(columns=[\"homeW\",\"homeL\",\"awayW\",\"awayL\"], inplace=True)"
   ]
  },
  {
   "cell_type": "code",
   "execution_count": 68,
   "metadata": {},
   "outputs": [],
   "source": [
    "df_teams.drop(columns=[\"oRebounds\", \"dRebounds\", \"PostoRebounds\", \"PostdRebounds\"], inplace=True)"
   ]
  },
  {
   "cell_type": "markdown",
   "metadata": {},
   "source": [
    "## Voting classifier"
   ]
  },
  {
   "cell_type": "code",
   "execution_count": 69,
   "metadata": {},
   "outputs": [],
   "source": [
    "\n",
    "df_teams = df_teams[df_teams['year'] != 1]\n",
    "df_teams = df_teams[df_teams['year'] != 2]\n",
    "\n",
    "#one hot encoding sklearn to encode column tmID\n",
    "encoder = OneHotEncoder()\n",
    "onehotarray = encoder.fit_transform(df_teams[['tmID']]).toarray()\n",
    "items = [f'tmID_{item}' for item in encoder.categories_[0]]\n",
    "df_teams[items] = onehotarray\n",
    "df_teams=df_teams.drop(['tmID'], axis=1)"
   ]
  },
  {
   "cell_type": "code",
   "execution_count": 70,
   "metadata": {},
   "outputs": [],
   "source": [
    "model1 = LogisticRegression(C=0.001, class_weight='balanced', max_iter=100, multi_class='auto', penalty='l2', solver='lbfgs')\n",
    "model2 = GaussianNB(priors=None, var_smoothing=1e-09)\n",
    "model3 = KNeighborsClassifier(algorithm='auto', leaf_size=5, metric='minkowski', n_neighbors=10, p=2)\n",
    "model4 = MLPClassifier(activation='logistic', alpha=1e-05, hidden_layer_sizes=(20,), max_iter=100, solver='adam', random_state=42, early_stopping=True)"
   ]
  },
  {
   "cell_type": "code",
   "execution_count": 75,
   "metadata": {},
   "outputs": [
    {
     "name": "stdout",
     "output_type": "stream",
     "text": [
      "hightest_accuracy_score:  0.771062271062271\n"
     ]
    },
    {
     "data": {
      "image/png": "[encoded data removed]",
      "text/plain": [
       "<Figure size 640x480 with 1 Axes>"
      ]
     },
     "metadata": {},
     "output_type": "display_data"
    },
    {
     "name": "stdout",
     "output_type": "stream",
     "text": [
      "Index(['rank', 'confW', 'confL', 'num_playoff_appearances',\n",
      "       'total_first_round_won', 'total_semis_won', 'total_semis_lost',\n",
      "       'total_finals_won', 'mean_lost', 'confID_WE', 'GP', 'GS', 'minutes',\n",
      "       'dq', 'PostGP', 'PostGS', 'PostMinutes', 'performance',\n",
      "       'Postperformance', 'points_precision', 'Postpoints_precision', 'PostDQ',\n",
      "       'height', 'weight', 'award_count_x', 'won', 'lost', 'post_wins',\n",
      "       'post_losses', 'award_count_y', 'tmID_ATL', 'tmID_CHA', 'tmID_CHI',\n",
      "       'tmID_CLE', 'tmID_CON', 'tmID_DET', 'tmID_HOU', 'tmID_IND', 'tmID_LAS',\n",
      "       'tmID_MIA', 'tmID_MIN', 'tmID_NYL', 'tmID_ORL', 'tmID_PHO', 'tmID_POR',\n",
      "       'tmID_SAC', 'tmID_SAS', 'tmID_SEA', 'tmID_TUL', 'tmID_UTA', 'tmID_WAS',\n",
      "       'playoff', 'year', 'confID_EA'],\n",
      "      dtype='object')\n"
     ]
    }
   ],
   "source": [
    "# Voting Ensemble\n",
    "voting_clf = VotingClassifier(estimators=[\n",
    "    ('model1', model1),\n",
    "    ('model2', model2),\n",
    "    ('model3', model3),\n",
    "    ('model4', model4)\n",
    "], voting='soft')\n",
    "\n",
    "# Extract the target variable\n",
    "target_variable = df_teams[\"playoff\"]\n",
    "\n",
    "# Fit the ensemble model\n",
    "voting_clf.fit(df_teams, target_variable)\n",
    "\n",
    "features_kbest = select_k_best(df_teams[df_teams[\"year\"] < 11], voting_clf, scaling=True)\n",
    "print(features_kbest)\n",
    "\n"
   ]
  },
  {
   "cell_type": "code",
   "execution_count": 76,
   "metadata": {},
   "outputs": [],
   "source": [
    "data = df_teams[features_kbest]\n",
    "target_col = \"playoff\"\n",
    "# Split the data into training and test sets\n",
    "train_data = data[data[\"year\"] < 11]\n",
    "train_data = train_data[train_data[\"year\"] >= 11 - 4]\n",
    "test_data = data[data[\"year\"] == 11]\n",
    "\n",
    "scaler = MinMaxScaler()\n",
    "train_data = scaler.fit_transform(train_data)\n",
    "train_data = pd.DataFrame(train_data, columns=data.columns)\n",
    "test_data = scaler.transform(test_data)\n",
    "test_data = pd.DataFrame(test_data, columns=data.columns)\n",
    "\n",
    "X_train = train_data.drop([target_col], axis=1)\n",
    "y_train = train_data[target_col]\n",
    "X_test = test_data.drop([target_col], axis=1)\n",
    "\n",
    "voting_clf.fit(X_train, y_train)\n",
    "y_prob = voting_clf.predict_proba(X_test)\n",
    "\n",
    "test_data = test_data.copy()\n",
    "test_data.loc[:, 'y_prob'] = y_prob[:, 1]\n",
    "test_data['y_pred'] = 0\n",
    "conferences = ['confID_EA', 'confID_WE']\n",
    "for conf_col in conferences:\n",
    "    conf_indices = test_data.index[test_data[conf_col] == 1].tolist()\n",
    "    sorted_indices = np.argsort(\n",
    "        -test_data['y_prob'].loc[test_data[conf_col] == 1].values).tolist()\n",
    "    top_4_indices = [conf_indices[i] for i in sorted_indices[:4]]\n",
    "    test_data.loc[top_4_indices, 'y_pred'] = 1\n",
    "team_ids = ['tmID_TUL','tmID_ATL','tmID_CHA','tmID_CHI','tmID_CLE','tmID_CON','tmID_DET','tmID_HOU','tmID_IND','tmID_LAS','tmID_MIA','tmID_MIN','tmID_NYL','tmID_ORL','tmID_PHO','tmID_POR','tmID_SAC','tmID_SAS','tmID_SEA','tmID_UTA','tmID_WAS']\n",
    "#remove one hot encoding. For each value in test_data check witch teams_ids are 1 and add the team to the tmID column\n",
    "test_data['tmID'] = \"\"\n",
    "for i in range(len(test_data)):\n",
    "    for team in team_ids:\n",
    "        if test_data[team].iloc[i] == 1:\n",
    "            test_data.loc[i, 'tmID'] = team.split('_')[1]\n",
    "\n",
    "\n",
    "# Add the 'year', 'y_pred', 'y_prob', and the original 'tmID' back to the DataFrame\n",
    "\n",
    "test_data = test_data[['tmID', 'y_pred']]\n",
    "#change tmID for ID\n",
    "test_data['TeamID'] = test_data['tmID']\n",
    "test_data.drop(columns=['tmID'], inplace=True)\n",
    "#columns ID, label. Label is Y when y_pred is 1 and N when y_pred is 0\n",
    "test_data['Playoff'] = test_data['y_pred'].map({1: 'Y', 0: 'N'})\n",
    "test_data.drop(columns=['y_pred'], inplace=True)\n",
    "\n",
    "#sort by ID\n",
    "test_data.sort_values(by=['TeamID'], ascending=[True], inplace=True)\n",
    "test_data.to_csv('predictions.csv', index=False)"
   ]
  }
 ],
 "metadata": {
  "kernelspec": {
   "display_name": "Python 3",
   "language": "python",
   "name": "python3"
  },
  "language_info": {
   "codemirror_mode": {
    "name": "ipython",
    "version": 3
   },
   "file_extension": ".py",
   "mimetype": "text/x-python",
   "name": "python",
   "nbconvert_exporter": "python",
   "pygments_lexer": "ipython3",
   "version": "3.10.11"
  },
  "orig_nbformat": 4
 },
 "nbformat": 4,
 "nbformat_minor": 2
}
